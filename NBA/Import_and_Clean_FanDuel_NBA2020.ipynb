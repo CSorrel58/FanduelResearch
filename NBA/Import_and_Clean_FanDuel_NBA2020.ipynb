{
 "cells": [
  {
   "cell_type": "markdown",
   "metadata": {},
   "source": [
    "In this notebook I am exporting all of the player Fanduel data for the 2020 NBA season. This information was pulled from this site http://rotoguru1.com/cgi-bin/hyday.pl?game=fd&mon=10&day=22&year=2019 using Beautiful soup and then by iterating over the dropdown menu.\n",
    "\n",
    "While I want to do additional investigation by cleaning the table up to include stats, this first go around was to prove out that I could pull the records for each night of games and then merge them by date and by player to be able to look at the aggregate information for Fanduel points scored vs fanduel price, with some other pieces of information such as team, opponent, and whether the player was on the road vs at home."
   ]
  },
  {
   "cell_type": "code",
   "execution_count": 1,
   "metadata": {},
   "outputs": [],
   "source": [
    "#pulling all relevant libraries \n",
    "from bs4 import BeautifulSoup\n",
    "import requests\n",
    "import pandas as pd\n",
    "import matplotlib.pyplot as plt\n",
    "import numpy as np\n",
    "import time"
   ]
  },
  {
   "cell_type": "markdown",
   "metadata": {},
   "source": [
    "the below information was used to scrape the site. I ran this once and then commneted it out after saving the tables as a csv to avoid constantly pulling the data from the web."
   ]
  },
  {
   "cell_type": "code",
   "execution_count": 2,
   "metadata": {},
   "outputs": [],
   "source": [
    "##realized the url just updated based on dates, so wrote a loop to accumulate all of the urls\n",
    "#years = [2019,2020]\n",
    "#months = list(range(1,13,1))\n",
    "#days = list(range(1,32,1))\n",
    "\n",
    "#urls = []\n",
    "#for year in years:\n",
    "#    for month in months:\n",
    "#        for day in days:\n",
    "#            urls.append(str('http://rotoguru1.com/cgi-bin/hyday.pl?game=fd&mon='+str(month)+'&day='+str(day)+'&year='+str(year)))\n",
    "\n",
    "##The 2020 season kicked off October 22, 2019 so I want to have a list with just the information for those dates\n",
    "##finding index number of url that matches that day\n",
    "#urls.index('http://rotoguru1.com/cgi-bin/hyday.pl?game=fd&mon=10&day=22&year=2019')\n",
    "##ended up being 300\n",
    "##finding index that matches last game of regular season - March 11. I am not counting playoffs or post pandemic games sense not all teams are playing \n",
    "#urls.index('http://rotoguru1.com/cgi-bin/hyday.pl?game=fd&mon=3&day=10&year=2020')\n",
    "##ended up being 443\n",
    "##saving list just for dates that would be in 2020 season\n",
    "#seasonurls = urls[300:444]\n",
    "\n",
    "##we should now have the page we need for each url"
   ]
  },
  {
   "cell_type": "markdown",
   "metadata": {},
   "source": [
    "This is the script to scrape all of the player data. I only ran this once and saved it as a csv in the section in the code marked below because running it is very time consuming."
   ]
  },
  {
   "cell_type": "code",
   "execution_count": 3,
   "metadata": {},
   "outputs": [],
   "source": [
    "##creating an empty list that will have the player row for each table\n",
    "\n",
    "#rows = []\n",
    "\n",
    "##Running a loop through all the urls to get every piece of data in one list\n",
    "#scraping each url\n",
    "#for url in urls:\n",
    "#    webpage = requests.get(url)\n",
    "#    webpage_content = webpage.content\n",
    "#    soup = BeautifulSoup(webpage_content,'html.parser')\n",
    "#    table_rows = soup.find_all('td')\n",
    "    #pulling just the player data, which starts on the 24th entry. \n",
    "    #We also want to add some kind of date identifier so for now im doing the url\n",
    "#    for row in table_rows[24:]:\n",
    "#        rows.append([row.get_text(),url])"
   ]
  },
  {
   "cell_type": "code",
   "execution_count": 4,
   "metadata": {},
   "outputs": [],
   "source": [
    "##create data frame\n",
    "#sample_frame = pd.DataFrame.from_records(rows).reset_index()\n",
    "##save to csv\n",
    "#sample_frame.to_csv('All_rows.csv')"
   ]
  },
  {
   "cell_type": "markdown",
   "metadata": {},
   "source": [
    "The above text can be uncommented if you ever need to pull the information again, for example in 2021. The below information is now pulling from the \"All_rows\" CSV I saved, which has all data from the beginning of the 2021 season through March 10, the day before games were halted due to COVID.<br><br>\n",
    "From here on, I'm going to approach the problem using that static csv, starting with creating a data frame"
   ]
  },
  {
   "cell_type": "code",
   "execution_count": 5,
   "metadata": {},
   "outputs": [],
   "source": [
    "#create frame from saved csv\n",
    "new_frame = pd.read_csv('All_rows.csv')\n",
    "#rename columns\n",
    "new_frame.columns = ['Row','ID','Data','URL']"
   ]
  },
  {
   "cell_type": "code",
   "execution_count": 6,
   "metadata": {},
   "outputs": [],
   "source": [
    "#clean up column with urls so it just has date\n",
    "dates = new_frame['URL'].map(lambda x: x.replace('http://rotoguru1.com/cgi-bin/hyday.pl?game=fd&mon=','')\\\n",
    "                             .replace('&year=','/')\\\n",
    "                             .replace('&day=','/'))\n",
    "new_frame['Date'] = dates\n",
    "\n",
    "#create separate frame that removes all the url columns\n",
    "date_frame = new_frame[['Data','Date']].reset_index(drop=True)"
   ]
  },
  {
   "cell_type": "markdown",
   "metadata": {},
   "source": [
    "Everything from here to the next markup is me clearing out rows that were in the table but did not have player information."
   ]
  },
  {
   "cell_type": "code",
   "execution_count": 7,
   "metadata": {},
   "outputs": [],
   "source": [
    "#We need to remove some ads and nav stuff here by \n",
    "#converting to a series, finding the ones that match, and adding back to the table\n",
    "find_Ads = date_frame['Data']\n",
    "#create series that has 0 for what matches the ads\n",
    "ads_found = find_Ads.str.find('RotoGuru')\n",
    "#add column to table with 0's\n",
    "date_frame['Ad'] = ads_found\n",
    "#create new table with those rows with zero gone\n",
    "no_ads = date_frame[date_frame['Ad'] != 1].reset_index(drop=True)"
   ]
  },
  {
   "cell_type": "code",
   "execution_count": 8,
   "metadata": {},
   "outputs": [],
   "source": [
    "#Repeating to remove Jump To:\n",
    "#converting to a series, finding the ones that match, and adding back to the table\n",
    "find_jump = no_ads['Data']\n",
    "#create series that has 0 for what matches the text\n",
    "jump_found = find_jump.str.find('Jump to:')\n",
    "#add column to table with 0's\n",
    "no_ads['Remove'] = jump_found\n",
    "#create new table with those rows with zero gone\n",
    "jump_gone = no_ads[no_ads['Remove'] !=0].reset_index(drop=True)"
   ]
  },
  {
   "cell_type": "code",
   "execution_count": 9,
   "metadata": {},
   "outputs": [],
   "source": [
    "#There's a term 'Unlisted' that pops up occasionally and breaks everything. I'm clearing that here\n",
    "find_unlisted = jump_gone['Data']\n",
    "#create series that has a 0 for where it says unlisted\n",
    "unlisted_found = find_unlisted.str.find('Unlisted')\n",
    "#add column to table with 0's\n",
    "jump_gone['Z'] = unlisted_found\n",
    "#create new table with those rows removed\n",
    "unlisted_gone = jump_gone[jump_gone['Z'] != 0].reset_index(drop=True)"
   ]
  },
  {
   "cell_type": "code",
   "execution_count": 10,
   "metadata": {
    "scrolled": true
   },
   "outputs": [],
   "source": [
    "##There's a subtable headers that aren't player data. we are getting rid of most those here. Min can't go \n",
    "#because it lines up with al-farouq aminu\n",
    "##creates list of all the words I want to find and get rid of\n",
    "sub = ['Forward','Center','FD Points','Salary','Team','Opp.','Score','Stats','Unlisted']\n",
    "pattern = '|'.join(sub)\n",
    "\n",
    "unlisted_gone['gone'] = unlisted_gone['Data'].str.contains(pattern, case=False)\n"
   ]
  },
  {
   "cell_type": "code",
   "execution_count": 11,
   "metadata": {},
   "outputs": [],
   "source": [
    "#remove any rows where we found those subtable headers\n",
    "cleaner_table = unlisted_gone[unlisted_gone['gone'] != True].reset_index()\n",
    "#specifically remove Min\n",
    "#converting to a series, finding the ones that match, and adding back to the table\n",
    "find_min = cleaner_table['Data']\n",
    "#create series that has 0 for what matches the word Min\n",
    "min_found = find_min.str.find('Min')\n",
    "#add column to table with 0's\n",
    "cleaner_table['Remove'] = min_found\n",
    "#create new table with those rows with zero gone\n",
    "clean_table = cleaner_table[cleaner_table['Remove'] !=0].reset_index(drop=True)"
   ]
  },
  {
   "cell_type": "markdown",
   "metadata": {},
   "source": [
    "Now that we've cleared all the random stuff out, we're going to try to create a row per player per game and include the date played"
   ]
  },
  {
   "cell_type": "code",
   "execution_count": 12,
   "metadata": {},
   "outputs": [],
   "source": [
    "##create series with the data\n",
    "just_data = clean_table[['Data','Date']].reset_index(drop=True)"
   ]
  },
  {
   "cell_type": "code",
   "execution_count": 13,
   "metadata": {
    "scrolled": true
   },
   "outputs": [
    {
     "data": {
      "text/html": [
       "<div>\n",
       "<style scoped>\n",
       "    .dataframe tbody tr th:only-of-type {\n",
       "        vertical-align: middle;\n",
       "    }\n",
       "\n",
       "    .dataframe tbody tr th {\n",
       "        vertical-align: top;\n",
       "    }\n",
       "\n",
       "    .dataframe thead th {\n",
       "        text-align: right;\n",
       "    }\n",
       "</style>\n",
       "<table border=\"1\" class=\"dataframe\">\n",
       "  <thead>\n",
       "    <tr style=\"text-align: right;\">\n",
       "      <th></th>\n",
       "      <th>Data</th>\n",
       "      <th>Date</th>\n",
       "    </tr>\n",
       "  </thead>\n",
       "  <tbody>\n",
       "    <tr>\n",
       "      <th>0</th>\n",
       "      <td>SG</td>\n",
       "      <td>1/1/2019</td>\n",
       "    </tr>\n",
       "    <tr>\n",
       "      <th>1</th>\n",
       "      <td>Beasley, Malik</td>\n",
       "      <td>1/1/2019</td>\n",
       "    </tr>\n",
       "    <tr>\n",
       "      <th>2</th>\n",
       "      <td>40.7</td>\n",
       "      <td>1/1/2019</td>\n",
       "    </tr>\n",
       "    <tr>\n",
       "      <th>3</th>\n",
       "      <td>$4,500</td>\n",
       "      <td>1/1/2019</td>\n",
       "    </tr>\n",
       "    <tr>\n",
       "      <th>4</th>\n",
       "      <td>den</td>\n",
       "      <td>1/1/2019</td>\n",
       "    </tr>\n",
       "    <tr>\n",
       "      <th>...</th>\n",
       "      <td>...</td>\n",
       "      <td>...</td>\n",
       "    </tr>\n",
       "    <tr>\n",
       "      <th>572710</th>\n",
       "      <td>den</td>\n",
       "      <td>9/22/2020</td>\n",
       "    </tr>\n",
       "    <tr>\n",
       "      <th>572711</th>\n",
       "      <td>v lal</td>\n",
       "      <td>9/22/2020</td>\n",
       "    </tr>\n",
       "    <tr>\n",
       "      <th>572712</th>\n",
       "      <td>114-106</td>\n",
       "      <td>9/22/2020</td>\n",
       "    </tr>\n",
       "    <tr>\n",
       "      <th>572713</th>\n",
       "      <td>4:35</td>\n",
       "      <td>9/22/2020</td>\n",
       "    </tr>\n",
       "    <tr>\n",
       "      <th>572714</th>\n",
       "      <td>0pt 2rb 1as 1to 0-1fg</td>\n",
       "      <td>9/22/2020</td>\n",
       "    </tr>\n",
       "  </tbody>\n",
       "</table>\n",
       "<p>572714 rows × 2 columns</p>\n",
       "</div>"
      ],
      "text/plain": [
       "                            Data       Date\n",
       "0                             SG   1/1/2019\n",
       "1                 Beasley, Malik   1/1/2019\n",
       "2                           40.7   1/1/2019\n",
       "3                         $4,500   1/1/2019\n",
       "4                            den   1/1/2019\n",
       "...                          ...        ...\n",
       "572710                       den  9/22/2020\n",
       "572711                     v lal  9/22/2020\n",
       "572712                   114-106  9/22/2020\n",
       "572713                      4:35  9/22/2020\n",
       "572714     0pt 2rb 1as 1to 0-1fg  9/22/2020\n",
       "\n",
       "[572714 rows x 2 columns]"
      ]
     },
     "execution_count": 13,
     "metadata": {},
     "output_type": "execute_result"
    }
   ],
   "source": [
    " #clearing out a row with an \"unlisted\" entry\n",
    "just_data.drop([4158])"
   ]
  },
  {
   "cell_type": "markdown",
   "metadata": {},
   "source": [
    "Now we have a frame with every piece of information and a date, but we need to make it one row per player per game"
   ]
  },
  {
   "cell_type": "code",
   "execution_count": 14,
   "metadata": {
    "scrolled": true
   },
   "outputs": [],
   "source": [
    "#merging data and date in a column so\n",
    "#I can then hopefully turn each one into a series and then just have the date once at the end.\n",
    "just_data['merge_date'] = just_data['Data'].astype(str)+'|'+just_data['Date']"
   ]
  },
  {
   "cell_type": "code",
   "execution_count": 15,
   "metadata": {},
   "outputs": [],
   "source": [
    "#turning my merged column into a list so I can run a comprehension and then add the date to the end of a player row\n",
    "just_datas = just_data['merge_date']\n"
   ]
  },
  {
   "cell_type": "code",
   "execution_count": 16,
   "metadata": {},
   "outputs": [],
   "source": [
    "data_list = list(just_datas)"
   ]
  },
  {
   "cell_type": "code",
   "execution_count": 17,
   "metadata": {},
   "outputs": [],
   "source": [
    "#This is a thing that let you make a row per player, but you couldn't add the date\n",
    "##each row was 9 entries. So we're gonna write this thing to create a series with lists of 9 entries each. This gets thrown off very easily though\n",
    "players = [data_list[x:x+9] for x in range(0, len(data_list), 9)]"
   ]
  },
  {
   "cell_type": "code",
   "execution_count": 18,
   "metadata": {},
   "outputs": [],
   "source": [
    "#now we have a row per player, but every piece of data has the date. So we want to just make that its own entry at the end\n",
    "for player in players:\n",
    "    player.insert(0,player[0].split('|')[1])"
   ]
  },
  {
   "cell_type": "code",
   "execution_count": 19,
   "metadata": {},
   "outputs": [],
   "source": [
    "#creating list that has each player entry as its own record without date. \n",
    "player_rows =[]\n",
    "for player in players:\n",
    "    if len(player) == 10:\n",
    "        player_rows.append([player[0],\\\n",
    "                            player[1].split('|')[0],\\\n",
    "                            player[2].split('|')[0],\\\n",
    "                            player[3].split('|')[0],\\\n",
    "                            player[4].split('|')[0],\\\n",
    "                            player[5].split('|')[0],\\\n",
    "                            player[6].split('|')[0],\\\n",
    "                            player[7].split('|')[0],\\\n",
    "                            player[8].split('|')[0],\\\n",
    "                            player[9].split('|')[0]])"
   ]
  },
  {
   "cell_type": "code",
   "execution_count": 20,
   "metadata": {},
   "outputs": [],
   "source": [
    "sample_frame = pd.DataFrame.from_records(player_rows).reset_index(drop=True)"
   ]
  },
  {
   "cell_type": "markdown",
   "metadata": {},
   "source": [
    "We now have a frame with records for every player for every game. It's time to clean things up!"
   ]
  },
  {
   "cell_type": "code",
   "execution_count": 21,
   "metadata": {
    "scrolled": false
   },
   "outputs": [
    {
     "data": {
      "text/html": [
       "<div>\n",
       "<style scoped>\n",
       "    .dataframe tbody tr th:only-of-type {\n",
       "        vertical-align: middle;\n",
       "    }\n",
       "\n",
       "    .dataframe tbody tr th {\n",
       "        vertical-align: top;\n",
       "    }\n",
       "\n",
       "    .dataframe thead th {\n",
       "        text-align: right;\n",
       "    }\n",
       "</style>\n",
       "<table border=\"1\" class=\"dataframe\">\n",
       "  <thead>\n",
       "    <tr style=\"text-align: right;\">\n",
       "      <th></th>\n",
       "      <th>Date,</th>\n",
       "      <th>Position</th>\n",
       "      <th>Name</th>\n",
       "      <th>Fanduel_Points</th>\n",
       "      <th>Fanduel_Price</th>\n",
       "      <th>Team</th>\n",
       "      <th>Opponent</th>\n",
       "      <th>Score</th>\n",
       "      <th>Minutes</th>\n",
       "      <th>Stats</th>\n",
       "    </tr>\n",
       "  </thead>\n",
       "  <tbody>\n",
       "    <tr>\n",
       "      <th>0</th>\n",
       "      <td>1/1/2019</td>\n",
       "      <td>SG</td>\n",
       "      <td>Beasley, Malik</td>\n",
       "      <td>40.7</td>\n",
       "      <td>$4,500</td>\n",
       "      <td>den</td>\n",
       "      <td>v nyk</td>\n",
       "      <td>115-108</td>\n",
       "      <td>29:56</td>\n",
       "      <td>23pt 6rb 5as 1st 5trey 8-15fg 2-2ft</td>\n",
       "    </tr>\n",
       "  </tbody>\n",
       "</table>\n",
       "</div>"
      ],
      "text/plain": [
       "      Date, Position            Name Fanduel_Points Fanduel_Price Team  \\\n",
       "0  1/1/2019       SG  Beasley, Malik           40.7        $4,500  den   \n",
       "\n",
       "  Opponent     Score Minutes                                   Stats  \n",
       "0    v nyk   115-108   29:56     23pt 6rb 5as 1st 5trey 8-15fg 2-2ft  "
      ]
     },
     "execution_count": 21,
     "metadata": {},
     "output_type": "execute_result"
    }
   ],
   "source": [
    "sample_frame.columns = ['Date,','Position','Name','Fanduel_Points','Fanduel_Price','Team','Opponent','Score','Minutes','Stats']"
   ]
  },
  {
   "cell_type": "markdown",
   "metadata": {},
   "source": [
    "I'm now going to clean up the price column, and then use that column to delete non player rows by making a new frame that drops any rows that do not have a price"
   ]
  },
  {
   "cell_type": "code",
   "execution_count": 22,
   "metadata": {},
   "outputs": [],
   "source": [
    "#Replace currency symbols in column so we can make it an integer\n",
    "sample_frame['Fanduel_Price'] = sample_frame['Fanduel_Price'].str.replace(',', '')\n",
    "sample_frame['Fanduel_Price'] = sample_frame['Fanduel_Price'].str.replace('$', '')\n",
    "#Turn the column to integers\n",
    "sample_frame['Fanduel_Price'] = pd.to_numeric(sample_frame['Fanduel_Price'], errors='coerce')"
   ]
  },
  {
   "cell_type": "code",
   "execution_count": 23,
   "metadata": {},
   "outputs": [],
   "source": [
    "#there is no price listed for some players. i am removing them since the whole goal is to see who exceeds their price\n",
    "df1 = sample_frame[~sample_frame['Fanduel_Price'].isna()].reset_index(drop=True)"
   ]
  },
  {
   "cell_type": "code",
   "execution_count": 24,
   "metadata": {
    "scrolled": true
   },
   "outputs": [],
   "source": [
    "#convert DNP in Minutes column to 0's. Had to make 0:0 to allow split function to work for players with actual minutes\n",
    "df1['NoDNP'] = df1['Minutes'].apply(lambda x: '0:0' if str(x) == 'DNP' else x)\n",
    "#convert NA in Minutes column to 0's\n",
    "df1['NoNaN'] = df1['NoDNP'].apply(lambda x: '0:0' if str(x) == 'nan' else x)\n",
    "#convert mm:ss to total minutes as a float by splitting and then adding\n",
    "df1['Minutes_Played']= df1['NoNaN'].str.split(':').apply(lambda x: int(x[0]) + ((int(x[1])/60)))"
   ]
  },
  {
   "cell_type": "code",
   "execution_count": 25,
   "metadata": {},
   "outputs": [],
   "source": [
    "#Convert Fanduel_Points to float\n",
    "df1['Fanduel_Points'] = pd.to_numeric(df1['Fanduel_Points'])"
   ]
  },
  {
   "cell_type": "code",
   "execution_count": 26,
   "metadata": {},
   "outputs": [],
   "source": [
    "#create column for home vs away and updated column for opponent\n",
    "df1['Split'] = df1['Opponent'].str[0]\n",
    "df1['Home'] = df1.Split.apply(lambda x: 'Home' if str(x) == 'v' else 'Away')\n",
    "df1['Foe'] = df1['Opponent'].str[1:]"
   ]
  },
  {
   "cell_type": "code",
   "execution_count": 27,
   "metadata": {},
   "outputs": [],
   "source": [
    "#clearing out some columns\n",
    "del df1['NoDNP']\n",
    "del df1['NoNaN']\n",
    "del df1['Split']\n",
    "del df1['Opponent']"
   ]
  },
  {
   "cell_type": "code",
   "execution_count": 28,
   "metadata": {},
   "outputs": [],
   "source": [
    "#get rid of some carrots that are appearing\n",
    "df1['Name'] = df1['Name'].str.replace('^','')"
   ]
  },
  {
   "cell_type": "markdown",
   "metadata": {},
   "source": [
    "I am now going to work on breaking the statistics out into each of their own categories"
   ]
  },
  {
   "cell_type": "code",
   "execution_count": 30,
   "metadata": {},
   "outputs": [
    {
     "data": {
      "text/html": [
       "<div>\n",
       "<style scoped>\n",
       "    .dataframe tbody tr th:only-of-type {\n",
       "        vertical-align: middle;\n",
       "    }\n",
       "\n",
       "    .dataframe tbody tr th {\n",
       "        vertical-align: top;\n",
       "    }\n",
       "\n",
       "    .dataframe thead th {\n",
       "        text-align: right;\n",
       "    }\n",
       "</style>\n",
       "<table border=\"1\" class=\"dataframe\">\n",
       "  <thead>\n",
       "    <tr style=\"text-align: right;\">\n",
       "      <th></th>\n",
       "      <th>index</th>\n",
       "      <th>Stats</th>\n",
       "    </tr>\n",
       "  </thead>\n",
       "  <tbody>\n",
       "    <tr>\n",
       "      <th>0</th>\n",
       "      <td>0</td>\n",
       "      <td>23pt 6rb 5as 1st 5trey 8-15fg 2-2ft</td>\n",
       "    </tr>\n",
       "    <tr>\n",
       "      <th>1</th>\n",
       "      <td>1</td>\n",
       "      <td>27pt 5rb 4as 1bl 2to 5trey 11-23fg</td>\n",
       "    </tr>\n",
       "    <tr>\n",
       "      <th>2</th>\n",
       "      <td>2</td>\n",
       "      <td>25pt 6rb 6as 1st 5to 1trey 8-21fg 8-8ft</td>\n",
       "    </tr>\n",
       "    <tr>\n",
       "      <th>3</th>\n",
       "      <td>3</td>\n",
       "      <td>14pt 9rb 8as 1st 1bl 4to 6-13fg 2-6ft</td>\n",
       "    </tr>\n",
       "    <tr>\n",
       "      <th>4</th>\n",
       "      <td>4</td>\n",
       "      <td>19pt 5rb 5as 3st 4to 3trey 7-19fg 2-2ft</td>\n",
       "    </tr>\n",
       "  </tbody>\n",
       "</table>\n",
       "</div>"
      ],
      "text/plain": [
       "   index                                       Stats\n",
       "0      0         23pt 6rb 5as 1st 5trey 8-15fg 2-2ft\n",
       "1      1          27pt 5rb 4as 1bl 2to 5trey 11-23fg\n",
       "2      2     25pt 6rb 6as 1st 5to 1trey 8-21fg 8-8ft\n",
       "3      3       14pt 9rb 8as 1st 1bl 4to 6-13fg 2-6ft\n",
       "4      4     19pt 5rb 5as 3st 4to 3trey 7-19fg 2-2ft"
      ]
     },
     "execution_count": 30,
     "metadata": {},
     "output_type": "execute_result"
    }
   ],
   "source": [
    "#turning stats into its own data frame so I can play around without dealing with the other stuff\n",
    "stats = df1['Stats'].reset_index()\n",
    "stats.head()"
   ]
  },
  {
   "cell_type": "markdown",
   "metadata": {},
   "source": [
    "Our big problem is the stats go in this order: (pt,rb,as,st,to,try,fg,ft). But if someone doesn't get one of those stats, it doesn't say 0; it just skips to the next one. So we'd see 19pt 8as instead of 19pt 0rb 8as. My idea is to break these into columns by splitting along the space, and then find a string with the corresponding statistic in each column. If the statistic identifier isn't there, I will move it and all following statistics one column to the right."
   ]
  },
  {
   "cell_type": "code",
   "execution_count": 31,
   "metadata": {},
   "outputs": [
    {
     "data": {
      "text/html": [
       "<div>\n",
       "<style scoped>\n",
       "    .dataframe tbody tr th:only-of-type {\n",
       "        vertical-align: middle;\n",
       "    }\n",
       "\n",
       "    .dataframe tbody tr th {\n",
       "        vertical-align: top;\n",
       "    }\n",
       "\n",
       "    .dataframe thead th {\n",
       "        text-align: right;\n",
       "    }\n",
       "</style>\n",
       "<table border=\"1\" class=\"dataframe\">\n",
       "  <thead>\n",
       "    <tr style=\"text-align: right;\">\n",
       "      <th></th>\n",
       "      <th>0</th>\n",
       "      <th>1</th>\n",
       "      <th>2</th>\n",
       "      <th>3</th>\n",
       "      <th>4</th>\n",
       "      <th>5</th>\n",
       "      <th>6</th>\n",
       "      <th>7</th>\n",
       "      <th>8</th>\n",
       "      <th>9</th>\n",
       "      <th>10</th>\n",
       "    </tr>\n",
       "  </thead>\n",
       "  <tbody>\n",
       "    <tr>\n",
       "      <th>0</th>\n",
       "      <td></td>\n",
       "      <td></td>\n",
       "      <td>23pt</td>\n",
       "      <td>6rb</td>\n",
       "      <td>5as</td>\n",
       "      <td>1st</td>\n",
       "      <td>5trey</td>\n",
       "      <td>8-15fg</td>\n",
       "      <td>2-2ft</td>\n",
       "      <td>0</td>\n",
       "      <td>0</td>\n",
       "    </tr>\n",
       "    <tr>\n",
       "      <th>1</th>\n",
       "      <td></td>\n",
       "      <td></td>\n",
       "      <td>27pt</td>\n",
       "      <td>5rb</td>\n",
       "      <td>4as</td>\n",
       "      <td>1bl</td>\n",
       "      <td>2to</td>\n",
       "      <td>5trey</td>\n",
       "      <td>11-23fg</td>\n",
       "      <td>0</td>\n",
       "      <td>0</td>\n",
       "    </tr>\n",
       "    <tr>\n",
       "      <th>2</th>\n",
       "      <td></td>\n",
       "      <td></td>\n",
       "      <td>25pt</td>\n",
       "      <td>6rb</td>\n",
       "      <td>6as</td>\n",
       "      <td>1st</td>\n",
       "      <td>5to</td>\n",
       "      <td>1trey</td>\n",
       "      <td>8-21fg</td>\n",
       "      <td>8-8ft</td>\n",
       "      <td>0</td>\n",
       "    </tr>\n",
       "    <tr>\n",
       "      <th>3</th>\n",
       "      <td></td>\n",
       "      <td></td>\n",
       "      <td>14pt</td>\n",
       "      <td>9rb</td>\n",
       "      <td>8as</td>\n",
       "      <td>1st</td>\n",
       "      <td>1bl</td>\n",
       "      <td>4to</td>\n",
       "      <td>6-13fg</td>\n",
       "      <td>2-6ft</td>\n",
       "      <td>0</td>\n",
       "    </tr>\n",
       "    <tr>\n",
       "      <th>4</th>\n",
       "      <td></td>\n",
       "      <td></td>\n",
       "      <td>19pt</td>\n",
       "      <td>5rb</td>\n",
       "      <td>5as</td>\n",
       "      <td>3st</td>\n",
       "      <td>4to</td>\n",
       "      <td>3trey</td>\n",
       "      <td>7-19fg</td>\n",
       "      <td>2-2ft</td>\n",
       "      <td>0</td>\n",
       "    </tr>\n",
       "    <tr>\n",
       "      <th>...</th>\n",
       "      <td>...</td>\n",
       "      <td>...</td>\n",
       "      <td>...</td>\n",
       "      <td>...</td>\n",
       "      <td>...</td>\n",
       "      <td>...</td>\n",
       "      <td>...</td>\n",
       "      <td>...</td>\n",
       "      <td>...</td>\n",
       "      <td>...</td>\n",
       "      <td>...</td>\n",
       "    </tr>\n",
       "    <tr>\n",
       "      <th>61043</th>\n",
       "      <td></td>\n",
       "      <td></td>\n",
       "      <td></td>\n",
       "      <td>0</td>\n",
       "      <td>0</td>\n",
       "      <td>0</td>\n",
       "      <td>0</td>\n",
       "      <td>0</td>\n",
       "      <td>0</td>\n",
       "      <td>0</td>\n",
       "      <td>0</td>\n",
       "    </tr>\n",
       "    <tr>\n",
       "      <th>61044</th>\n",
       "      <td></td>\n",
       "      <td></td>\n",
       "      <td></td>\n",
       "      <td>0</td>\n",
       "      <td>0</td>\n",
       "      <td>0</td>\n",
       "      <td>0</td>\n",
       "      <td>0</td>\n",
       "      <td>0</td>\n",
       "      <td>0</td>\n",
       "      <td>0</td>\n",
       "    </tr>\n",
       "    <tr>\n",
       "      <th>61045</th>\n",
       "      <td></td>\n",
       "      <td></td>\n",
       "      <td></td>\n",
       "      <td>0</td>\n",
       "      <td>0</td>\n",
       "      <td>0</td>\n",
       "      <td>0</td>\n",
       "      <td>0</td>\n",
       "      <td>0</td>\n",
       "      <td>0</td>\n",
       "      <td>0</td>\n",
       "    </tr>\n",
       "    <tr>\n",
       "      <th>61046</th>\n",
       "      <td></td>\n",
       "      <td></td>\n",
       "      <td></td>\n",
       "      <td>0</td>\n",
       "      <td>0</td>\n",
       "      <td>0</td>\n",
       "      <td>0</td>\n",
       "      <td>0</td>\n",
       "      <td>0</td>\n",
       "      <td>0</td>\n",
       "      <td>0</td>\n",
       "    </tr>\n",
       "    <tr>\n",
       "      <th>61047</th>\n",
       "      <td></td>\n",
       "      <td></td>\n",
       "      <td>1pt</td>\n",
       "      <td>2to</td>\n",
       "      <td>1-2ft</td>\n",
       "      <td>0</td>\n",
       "      <td>0</td>\n",
       "      <td>0</td>\n",
       "      <td>0</td>\n",
       "      <td>0</td>\n",
       "      <td>0</td>\n",
       "    </tr>\n",
       "  </tbody>\n",
       "</table>\n",
       "<p>61048 rows × 11 columns</p>\n",
       "</div>"
      ],
      "text/plain": [
       "      0   1     2    3      4    5      6       7        8      9 10\n",
       "0            23pt  6rb    5as  1st  5trey  8-15fg    2-2ft      0  0\n",
       "1            27pt  5rb    4as  1bl    2to   5trey  11-23fg      0  0\n",
       "2            25pt  6rb    6as  1st    5to   1trey   8-21fg  8-8ft  0\n",
       "3            14pt  9rb    8as  1st    1bl     4to   6-13fg  2-6ft  0\n",
       "4            19pt  5rb    5as  3st    4to   3trey   7-19fg  2-2ft  0\n",
       "...   .. ..   ...  ...    ...  ...    ...     ...      ...    ... ..\n",
       "61043                0      0    0      0       0        0      0  0\n",
       "61044                0      0    0      0       0        0      0  0\n",
       "61045                0      0    0      0       0        0      0  0\n",
       "61046                0      0    0      0       0        0      0  0\n",
       "61047         1pt  2to  1-2ft    0      0       0        0      0  0\n",
       "\n",
       "[61048 rows x 11 columns]"
      ]
     },
     "execution_count": 31,
     "metadata": {},
     "output_type": "execute_result"
    }
   ],
   "source": [
    "#starting by splitting our stats column\n",
    "stats_split = stats['Stats'].str.split(' ',expand=True).reset_index(drop=True)\n",
    "stats_split.fillna('0')"
   ]
  },
  {
   "cell_type": "markdown",
   "metadata": {},
   "source": [
    "I'm using the designated identifiers for stats along with regex to break each stat out into its own column."
   ]
  },
  {
   "cell_type": "code",
   "execution_count": 32,
   "metadata": {
    "scrolled": true
   },
   "outputs": [],
   "source": [
    "#filtering just for values that contain points\n",
    "stats_split['Points'] = stats_split[2].apply(lambda x: x if x.find('pt') else 0)\n",
    "#removing signifier\n",
    "stats_split['Points'] = stats_split['Points'].str.replace('pt','')\n",
    "#converting points to numeric\n",
    "stats_split['Points'] = pd.to_numeric(stats_split['Points'])\n",
    "#As soon as I hit rebounds, I ran into a none type error. I am trying this way instead.\n",
    "stats_split['Rebounds'] = stats_split[3].str.extract(pat = '(.?.rb)').fillna(stats_split[2].str.extract(pat = '(.?.rb)'))\n",
    "#removing signifier\n",
    "stats_split['Rebounds'] = stats_split['Rebounds'].str.replace('rb','')\n",
    "#converting to numeric\n",
    "stats_split['Rebounds'] = pd.to_numeric(stats_split['Rebounds'])\n",
    "#trying now for assists\n",
    "stats_split['Assists'] = stats_split[4].str.extract(pat = '(.?.as)').fillna(stats_split[3].str.extract(pat = '(.?.as)')).fillna(stats_split[2].str.extract(pat = '(.?.as)'))\n",
    "#removing signifier\n",
    "stats_split['Assists'] = stats_split['Assists'].str.replace('as','')\n",
    "#converting to numeric\n",
    "stats_split['Assists'] = pd.to_numeric(stats_split['Assists'])\n",
    "#trying now for steals\n",
    "stats_split['Steals'] = stats_split[5].str.extract(pat = '(.?.st)').fillna(stats_split[4].str.extract(pat = '(.?.st)')).fillna(stats_split[3].str.extract(pat = '(.?.st)')).fillna(stats_split[2].str.extract(pat = '(.?.st)'))\n",
    "#removing signifier\n",
    "stats_split['Steals'] = stats_split['Steals'].str.replace('st','')\n",
    "#converting to numeric\n",
    "stats_split['Steals'] = pd.to_numeric(stats_split['Steals'])\n",
    "#trying now for Blocks\n",
    "stats_split['Blocks'] = stats_split[6].str.extract(pat = '(.?.bl)').fillna(stats_split[5].str.extract(pat = '(.?.bl)'))\\\n",
    "                        .fillna(stats_split[4].str.extract(pat = '(.?.bl)')).fillna(stats_split[3].str.extract(pat = '(.?.bl)')).fillna(stats_split[2].str.extract(pat = '(.?.bl)'))\n",
    "#removing signifier\n",
    "stats_split['Blocks'] = stats_split['Blocks'].str.replace('bl','')\n",
    "#converting to numeric\n",
    "stats_split['Blocks'] = pd.to_numeric(stats_split['Blocks'])\n",
    "#trying now for Turnovers\n",
    "stats_split['Turnovers'] = stats_split[7].str.extract(pat = '(.?.to)').fillna(stats_split[6].str.extract(pat = '(.?.to)')).fillna(stats_split[5].str.extract(pat = '(.?.to)'))\\\n",
    "                            .fillna(stats_split[4].str.extract(pat = '(.?.to)')).fillna(stats_split[3].str.extract(pat = '(.?.to)')).fillna(stats_split[2].str.extract(pat = '(.?.to)'))\n",
    "#removing signifier\n",
    "stats_split['Turnovers'] = stats_split['Turnovers'].str.replace('to','')\n",
    "#converting to numeric\n",
    "stats_split['Turnovers'] = pd.to_numeric(stats_split['Turnovers'])\n",
    "#trying now for Three Pointers\n",
    "stats_split['3pts'] = stats_split[8].str.extract(pat = '(.?.trey)').fillna(stats_split[7].str.extract(pat = '(.?.trey)'))\\\n",
    "                        .fillna(stats_split[6].str.extract(pat = '(.?.trey)')).fillna(stats_split[5].str.extract(pat = '(.?.trey)'))\\\n",
    "                            .fillna(stats_split[4].str.extract(pat = '(.?.trey)')).fillna(stats_split[3].str.extract(pat = '(.?.trey)')).fillna(stats_split[2].str.extract(pat = '(.?.to)'))\n",
    "#removing signifier\n",
    "stats_split['3pts'] = stats_split['3pts'].str.replace('trey','')\n",
    "#converting to numeric\n",
    "stats_split['3pts'] = pd.to_numeric(stats_split['3pts'])\n",
    "#trying now for Field Goal\n",
    "stats_split['Field_Goals'] = stats_split[9].str.extract(pat = '(.?.?.?.fg)').fillna(stats_split[8].str.extract(pat = '(.?.?.?.fg)')).fillna(stats_split[7].str.extract(pat = '(.?.?.?.fg)'))\\\n",
    "                            .fillna(stats_split[6].str.extract(pat = '(.?.?.?.fg)')).fillna(stats_split[5].str.extract(pat = '(.?.?.?.fg)'))\\\n",
    "                            .fillna(stats_split[4].str.extract(pat = '(.?.?.?.fg)')).fillna(stats_split[3].str.extract(pat = '(.?.?.?.fg)')).fillna(stats_split[2].str.extract(pat = '(.?.?.?.fg)'))\n",
    "#removing signifier\n",
    "stats_split['Field_Goals'] = stats_split['Field_Goals'].str.replace('fg','')\n",
    "#trying now for Free throws\n",
    "stats_split['Free_Throws'] = stats_split[10].str.extract(pat = '(.?.?.?.ft)').fillna(stats_split[9].str.extract(pat = '(.?.?.?.ft)')).fillna(stats_split[8].str.extract(pat = '(.?.?.?.ft)'))\\\n",
    "                            .fillna(stats_split[7].str.extract(pat = '(.?.?.?.ft)')).fillna(stats_split[6].str.extract(pat = '(.?.?.?.ft)')).fillna(stats_split[5].str.extract(pat = '(.?.?.?.ft)'))\\\n",
    "                            .fillna(stats_split[4].str.extract(pat = '(.?.?.?.ft)')).fillna(stats_split[3].str.extract(pat = '(.?.?.?.ft)')).fillna(stats_split[2].str.extract(pat = '(.?.?.?.ft)'))\n",
    "#removing signifier\n",
    "stats_split['Free_Throws'] = stats_split['Free_Throws'].str.replace('ft','')\n",
    "#now splitting free throws and field goals into their own specific stats\n",
    "#creating frame of just field goals made and attempted\n",
    "field_goals_made = stats_split['Field_Goals'].str.split('-',expand=True).fillna(0)\n",
    "#naming those columns\n",
    "field_goals_made.columns = ['Field_Goals_Made','Field_Goals_Attempted']\n",
    "#adding back to stat_split\n",
    "stats_split['Field_Goals_Made'] = pd.to_numeric(field_goals_made['Field_Goals_Made'])\n",
    "stats_split['Field_Goals_Attempted'] = pd.to_numeric(field_goals_made['Field_Goals_Attempted'])\n",
    "#adding free throw percentage\n",
    "stats_split['Shooting%'] = stats_split['Field_Goals_Made']/stats_split['Field_Goals_Attempted']\n",
    "#repeating for free throws\n",
    "#creating frame of just free throws made and attempted\n",
    "frees_made = stats_split['Free_Throws'].str.split('-',expand=True).fillna(0)\n",
    "##naming those columns\n",
    "frees_made.columns = ['Frees_Made','Frees_Attempted']\n",
    "##adding back to stat_split\n",
    "stats_split['Free_Throws_Made'] = pd.to_numeric(frees_made['Frees_Made'])\n",
    "stats_split['Free_Throws_Attempted'] = pd.to_numeric(frees_made['Frees_Attempted'])\n",
    "##adding free throw percentage\n",
    "stats_split['Free_Throw%'] = stats_split['Free_Throws_Made']/stats_split['Free_Throws_Attempted']"
   ]
  },
  {
   "cell_type": "code",
   "execution_count": 34,
   "metadata": {},
   "outputs": [],
   "source": [
    "df1[['Points', 'Rebounds', 'Assists', 'Steals', 'Blocks', 'Turnovers',\n",
    "       '3pts', 'Field_Goals', 'Free_Throws', 'Field_Goals_Made',\n",
    "       'Field_Goals_Attempted', 'Shooting%', 'Free_Throws_Made',\n",
    "       'Free_Throws_Attempted', 'Free_Throw%']] = stats_split[['Points', 'Rebounds', 'Assists', 'Steals', 'Blocks', 'Turnovers',\n",
    "       '3pts', 'Field_Goals', 'Free_Throws', 'Field_Goals_Made',\n",
    "       'Field_Goals_Attempted', 'Shooting%', 'Free_Throws_Made',\n",
    "       'Free_Throws_Attempted', 'Free_Throw%']]"
   ]
  },
  {
   "cell_type": "code",
   "execution_count": 36,
   "metadata": {},
   "outputs": [
    {
     "data": {
      "text/plain": [
       "Index(['Date,', 'Position', 'Name', 'Fanduel_Points', 'Fanduel_Price', 'Team',\n",
       "       'Score', 'Minutes', 'Stats', 'Minutes_Played', 'Home', 'Foe', 'Points',\n",
       "       'Rebounds', 'Assists', 'Steals', 'Blocks', 'Turnovers', '3pts',\n",
       "       'Field_Goals', 'Free_Throws', 'Field_Goals_Made',\n",
       "       'Field_Goals_Attempted', 'Shooting%', 'Free_Throws_Made',\n",
       "       'Free_Throws_Attempted', 'Free_Throw%'],\n",
       "      dtype='object')"
      ]
     },
     "execution_count": 36,
     "metadata": {},
     "output_type": "execute_result"
    }
   ],
   "source": [
    "df1.columns"
   ]
  },
  {
   "cell_type": "code",
   "execution_count": 37,
   "metadata": {},
   "outputs": [],
   "source": [
    "df2 = df1[['Date,', 'Position', 'Name', 'Fanduel_Points', 'Fanduel_Price', 'Team',\n",
    "       'Score','Minutes_Played', 'Home', 'Foe', 'Points',\n",
    "       'Rebounds', 'Assists', 'Steals', 'Blocks', 'Turnovers', '3pts',\n",
    "       'Field_Goals_Made','Field_Goals_Attempted', 'Shooting%', 'Free_Throws_Made',\n",
    "       'Free_Throws_Attempted', 'Free_Throw%']]"
   ]
  },
  {
   "cell_type": "code",
   "execution_count": 39,
   "metadata": {},
   "outputs": [],
   "source": [
    "df2.to_csv('tight_frame.csv')"
   ]
  }
 ],
 "metadata": {
  "kernelspec": {
   "display_name": "Python 3",
   "language": "python",
   "name": "python3"
  },
  "language_info": {
   "codemirror_mode": {
    "name": "ipython",
    "version": 3
   },
   "file_extension": ".py",
   "mimetype": "text/x-python",
   "name": "python",
   "nbconvert_exporter": "python",
   "pygments_lexer": "ipython3",
   "version": "3.8.5"
  }
 },
 "nbformat": 4,
 "nbformat_minor": 4
}
