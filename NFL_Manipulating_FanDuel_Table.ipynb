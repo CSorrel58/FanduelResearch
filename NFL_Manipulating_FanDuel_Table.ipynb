{
 "cells": [
  {
   "cell_type": "markdown",
   "metadata": {},
   "source": [
    "The purpose of this notebook is to manipulate the dataframe I created in \"NFL_ImportandClean_Fanduel. <br><br>\n",
    "My main goal is to add the player position to make filtering easier and also possibly see if the correlation in difference between player value and price the next week."
   ]
  },
  {
   "cell_type": "code",
   "execution_count": 1,
   "metadata": {},
   "outputs": [],
   "source": [
    "#pulling in all the necessary python libraries\n",
    "from bs4 import BeautifulSoup\n",
    "import requests\n",
    "import pandas as pd\n",
    "import matplotlib.pyplot as plt\n",
    "import numpy as np\n",
    "import time\n",
    "from tabulate import tabulate\n",
    "from scipy.stats import zscore\n",
    "from sklearn.preprocessing import MinMaxScaler"
   ]
  },
  {
   "cell_type": "code",
   "execution_count": 2,
   "metadata": {
    "scrolled": true
   },
   "outputs": [],
   "source": [
    "#create frame from saved csv\n",
    "nfl_frame = pd.read_csv('nfl_weekly_fanduel_scores.csv')\n",
    "#rename columns\n",
    "nfl_frame.columns = ['Row','Week','Name','Team','Opponent','Fanduel_Points','Fanduel_Price','Game Location']"
   ]
  },
  {
   "cell_type": "code",
   "execution_count": 3,
   "metadata": {},
   "outputs": [],
   "source": [
    "#removing extra index column\n",
    "del nfl_frame['Row']"
   ]
  },
  {
   "cell_type": "markdown",
   "metadata": {},
   "source": [
    "My first goal is to add player position to the table. Looking at the table, I know that it is sorted in ascending order by Week (1->16) and then in descending order by Fanduel_Points. The positions are arrayed as QB->RB->WR->TE->K->Defense using this ordering, resetting each time the week changes.\n",
    "\n",
    "I'm going to try to write a comprehension that starts with Quarterback, and then continues checking to see if Fanduel_Points is <= the previous row. If yes, It will remain quarterback. If no, then it will check for Week number. If week number is the same, then it will move to the next choice in the list (RB) and continue going through the comprehension until Fanduel_Points is less than the previous row. It will then run the same check for receiver, TE,K,Def until that week number changes, at which point it will begin again at QB if I do it right, this will let me add the posiitons every week without any manual work beyond running the script."
   ]
  },
  {
   "cell_type": "code",
   "execution_count": 5,
   "metadata": {},
   "outputs": [
    {
     "data": {
      "text/html": [
       "<div>\n",
       "<style scoped>\n",
       "    .dataframe tbody tr th:only-of-type {\n",
       "        vertical-align: middle;\n",
       "    }\n",
       "\n",
       "    .dataframe tbody tr th {\n",
       "        vertical-align: top;\n",
       "    }\n",
       "\n",
       "    .dataframe thead th {\n",
       "        text-align: right;\n",
       "    }\n",
       "</style>\n",
       "<table border=\"1\" class=\"dataframe\">\n",
       "  <thead>\n",
       "    <tr style=\"text-align: right;\">\n",
       "      <th></th>\n",
       "      <th>Week</th>\n",
       "      <th>Name</th>\n",
       "      <th>Team</th>\n",
       "      <th>Opponent</th>\n",
       "      <th>Fanduel_Points</th>\n",
       "      <th>Fanduel_Price</th>\n",
       "      <th>Game Location</th>\n",
       "      <th>Position</th>\n",
       "    </tr>\n",
       "  </thead>\n",
       "  <tbody>\n",
       "    <tr>\n",
       "      <th>0</th>\n",
       "      <td>1</td>\n",
       "      <td>Wilson, Russell</td>\n",
       "      <td>sea</td>\n",
       "      <td>atl</td>\n",
       "      <td>31.78</td>\n",
       "      <td>8400.0</td>\n",
       "      <td>Away</td>\n",
       "      <td>QB</td>\n",
       "    </tr>\n",
       "    <tr>\n",
       "      <th>1</th>\n",
       "      <td>1</td>\n",
       "      <td>Rodgers, Aaron</td>\n",
       "      <td>gnb</td>\n",
       "      <td>min</td>\n",
       "      <td>30.76</td>\n",
       "      <td>7600.0</td>\n",
       "      <td>Away</td>\n",
       "      <td>QB</td>\n",
       "    </tr>\n",
       "    <tr>\n",
       "      <th>2</th>\n",
       "      <td>1</td>\n",
       "      <td>Allen, Josh</td>\n",
       "      <td>buf</td>\n",
       "      <td>nyj</td>\n",
       "      <td>28.18</td>\n",
       "      <td>7900.0</td>\n",
       "      <td>Home</td>\n",
       "      <td>QB</td>\n",
       "    </tr>\n",
       "    <tr>\n",
       "      <th>3</th>\n",
       "      <td>1</td>\n",
       "      <td>Jackson, Lamar</td>\n",
       "      <td>bal</td>\n",
       "      <td>cle</td>\n",
       "      <td>27.50</td>\n",
       "      <td>9300.0</td>\n",
       "      <td>Home</td>\n",
       "      <td>QB</td>\n",
       "    </tr>\n",
       "    <tr>\n",
       "      <th>4</th>\n",
       "      <td>1</td>\n",
       "      <td>Murray, Kyler</td>\n",
       "      <td>ari</td>\n",
       "      <td>sfo</td>\n",
       "      <td>27.30</td>\n",
       "      <td>7700.0</td>\n",
       "      <td>Away</td>\n",
       "      <td>QB</td>\n",
       "    </tr>\n",
       "    <tr>\n",
       "      <th>...</th>\n",
       "      <td>...</td>\n",
       "      <td>...</td>\n",
       "      <td>...</td>\n",
       "      <td>...</td>\n",
       "      <td>...</td>\n",
       "      <td>...</td>\n",
       "      <td>...</td>\n",
       "      <td>...</td>\n",
       "    </tr>\n",
       "    <tr>\n",
       "      <th>1297</th>\n",
       "      <td>3</td>\n",
       "      <td>Washington</td>\n",
       "      <td>was</td>\n",
       "      <td>cle</td>\n",
       "      <td>1.00</td>\n",
       "      <td>3900.0</td>\n",
       "      <td>Away</td>\n",
       "      <td>QB</td>\n",
       "    </tr>\n",
       "    <tr>\n",
       "      <th>1298</th>\n",
       "      <td>3</td>\n",
       "      <td>Jacksonville</td>\n",
       "      <td>jac</td>\n",
       "      <td>mia</td>\n",
       "      <td>0.00</td>\n",
       "      <td>3800.0</td>\n",
       "      <td>Home</td>\n",
       "      <td>QB</td>\n",
       "    </tr>\n",
       "    <tr>\n",
       "      <th>1299</th>\n",
       "      <td>3</td>\n",
       "      <td>New York J</td>\n",
       "      <td>nyj</td>\n",
       "      <td>ind</td>\n",
       "      <td>0.00</td>\n",
       "      <td>3800.0</td>\n",
       "      <td>Away</td>\n",
       "      <td>QB</td>\n",
       "    </tr>\n",
       "    <tr>\n",
       "      <th>1300</th>\n",
       "      <td>3</td>\n",
       "      <td>New York G</td>\n",
       "      <td>nyg</td>\n",
       "      <td>sfo</td>\n",
       "      <td>-2.00</td>\n",
       "      <td>3600.0</td>\n",
       "      <td>Home</td>\n",
       "      <td>QB</td>\n",
       "    </tr>\n",
       "    <tr>\n",
       "      <th>1301</th>\n",
       "      <td>3</td>\n",
       "      <td>New Orleans</td>\n",
       "      <td>nor</td>\n",
       "      <td>gnb</td>\n",
       "      <td>-3.00</td>\n",
       "      <td>4300.0</td>\n",
       "      <td>Home</td>\n",
       "      <td>QB</td>\n",
       "    </tr>\n",
       "  </tbody>\n",
       "</table>\n",
       "<p>1302 rows × 8 columns</p>\n",
       "</div>"
      ],
      "text/plain": [
       "      Week             Name Team Opponent  Fanduel_Points  Fanduel_Price  \\\n",
       "0        1  Wilson, Russell  sea      atl           31.78         8400.0   \n",
       "1        1   Rodgers, Aaron  gnb      min           30.76         7600.0   \n",
       "2        1      Allen, Josh  buf      nyj           28.18         7900.0   \n",
       "3        1   Jackson, Lamar  bal      cle           27.50         9300.0   \n",
       "4        1    Murray, Kyler  ari      sfo           27.30         7700.0   \n",
       "...    ...              ...  ...      ...             ...            ...   \n",
       "1297     3       Washington  was      cle            1.00         3900.0   \n",
       "1298     3     Jacksonville  jac      mia            0.00         3800.0   \n",
       "1299     3       New York J  nyj      ind            0.00         3800.0   \n",
       "1300     3       New York G  nyg      sfo           -2.00         3600.0   \n",
       "1301     3      New Orleans  nor      gnb           -3.00         4300.0   \n",
       "\n",
       "     Game Location Position  \n",
       "0             Away       QB  \n",
       "1             Away       QB  \n",
       "2             Home       QB  \n",
       "3             Home       QB  \n",
       "4             Away       QB  \n",
       "...            ...      ...  \n",
       "1297          Away       QB  \n",
       "1298          Home       QB  \n",
       "1299          Away       QB  \n",
       "1300          Home       QB  \n",
       "1301          Home       QB  \n",
       "\n",
       "[1302 rows x 8 columns]"
      ]
     },
     "execution_count": 5,
     "metadata": {},
     "output_type": "execute_result"
    }
   ],
   "source": [
    "nfl_frame"
   ]
  },
  {
   "cell_type": "code",
   "execution_count": 4,
   "metadata": {},
   "outputs": [],
   "source": [
    "#creating position column I will add my comprehension to, with a default of QB\n",
    "nfl_frame['Position'] = 'QB'"
   ]
  },
  {
   "cell_type": "markdown",
   "metadata": {},
   "source": [
    "*This is your attempt at writing a column with if then statements to directly add a position column. You're not having a ton of success and are looking for help from Stack Overflow*"
   ]
  },
  {
   "cell_type": "code",
   "execution_count": 6,
   "metadata": {},
   "outputs": [],
   "source": [
    "#writing comprehension to perform task listed above\n",
    "def add_position(df):\n",
    "    #creating list of my positions\n",
    "    Positions = list(['QB','RB','WR','TE','K','Def'])\n",
    "    #setting index as 0 to start with QB\n",
    "    Role = 0\n",
    "    #loop checking for week number and points scored\n",
    "    for i in range(1,len(df)):\n",
    "        #if week for new row matches week for last row, and points for new row <= last row, then same position as last row\n",
    "        if df.Week[i]==df.Week[i-1] and df.Fanduel_Points[i]<= df.Fanduel_Points[i-1]:\n",
    "            return Positions[Role]\n",
    "        #if week for new row matches week for last row, and points for new row > last row, then next position in list\n",
    "        elif df.Week[i] == df.Week[i-1] and df.Fanduel_Points[i] > df.Fanduel_Points[i-1]:\n",
    "            Role +=1\n",
    "            return Positions[Role]\n",
    "        #if new week, reset and begin from Positions[0] to begin labeling as QB again\n",
    "        elif df.Week[i] > df.Week[i-1] :\n",
    "            Role = 0\n",
    "            return Positions[Role]\n"
   ]
  },
  {
   "cell_type": "code",
   "execution_count": 7,
   "metadata": {
    "scrolled": true
   },
   "outputs": [
    {
     "ename": "AttributeError",
     "evalue": "'DataFrame' object has no attribute 'QB'",
     "output_type": "error",
     "traceback": [
      "\u001b[1;31m---------------------------------------------------------------------------\u001b[0m",
      "\u001b[1;31mAttributeError\u001b[0m                            Traceback (most recent call last)",
      "\u001b[1;32m<ipython-input-7-b24952b63d01>\u001b[0m in \u001b[0;36m<module>\u001b[1;34m\u001b[0m\n\u001b[1;32m----> 1\u001b[1;33m \u001b[0mnfl_frame\u001b[0m\u001b[1;33m[\u001b[0m\u001b[1;34m'Position'\u001b[0m\u001b[1;33m]\u001b[0m \u001b[1;33m=\u001b[0m \u001b[0mnfl_frame\u001b[0m\u001b[1;33m.\u001b[0m\u001b[0mapply\u001b[0m\u001b[1;33m(\u001b[0m\u001b[0madd_position\u001b[0m\u001b[1;33m(\u001b[0m\u001b[0mnfl_frame\u001b[0m\u001b[1;33m)\u001b[0m\u001b[1;33m)\u001b[0m\u001b[1;33m\u001b[0m\u001b[1;33m\u001b[0m\u001b[0m\n\u001b[0m",
      "\u001b[1;32mc:\\users\\clint\\appdata\\local\\programs\\python\\python38\\lib\\site-packages\\pandas\\core\\frame.py\u001b[0m in \u001b[0;36mapply\u001b[1;34m(self, func, axis, raw, result_type, args, **kwds)\u001b[0m\n\u001b[0;32m   7539\u001b[0m             \u001b[0mkwds\u001b[0m\u001b[1;33m=\u001b[0m\u001b[0mkwds\u001b[0m\u001b[1;33m,\u001b[0m\u001b[1;33m\u001b[0m\u001b[1;33m\u001b[0m\u001b[0m\n\u001b[0;32m   7540\u001b[0m         )\n\u001b[1;32m-> 7541\u001b[1;33m         \u001b[1;32mreturn\u001b[0m \u001b[0mop\u001b[0m\u001b[1;33m.\u001b[0m\u001b[0mget_result\u001b[0m\u001b[1;33m(\u001b[0m\u001b[1;33m)\u001b[0m\u001b[1;33m\u001b[0m\u001b[1;33m\u001b[0m\u001b[0m\n\u001b[0m\u001b[0;32m   7542\u001b[0m \u001b[1;33m\u001b[0m\u001b[0m\n\u001b[0;32m   7543\u001b[0m     \u001b[1;32mdef\u001b[0m \u001b[0mapplymap\u001b[0m\u001b[1;33m(\u001b[0m\u001b[0mself\u001b[0m\u001b[1;33m,\u001b[0m \u001b[0mfunc\u001b[0m\u001b[1;33m)\u001b[0m \u001b[1;33m->\u001b[0m \u001b[1;34m\"DataFrame\"\u001b[0m\u001b[1;33m:\u001b[0m\u001b[1;33m\u001b[0m\u001b[1;33m\u001b[0m\u001b[0m\n",
      "\u001b[1;32mc:\\users\\clint\\appdata\\local\\programs\\python\\python38\\lib\\site-packages\\pandas\\core\\apply.py\u001b[0m in \u001b[0;36mget_result\u001b[1;34m(self)\u001b[0m\n\u001b[0;32m    153\u001b[0m             \u001b[1;31m# Some methods (shift, etc.) require the axis argument, others\u001b[0m\u001b[1;33m\u001b[0m\u001b[1;33m\u001b[0m\u001b[1;33m\u001b[0m\u001b[0m\n\u001b[0;32m    154\u001b[0m             \u001b[1;31m# don't, so inspect and insert if necessary.\u001b[0m\u001b[1;33m\u001b[0m\u001b[1;33m\u001b[0m\u001b[1;33m\u001b[0m\u001b[0m\n\u001b[1;32m--> 155\u001b[1;33m             \u001b[0mfunc\u001b[0m \u001b[1;33m=\u001b[0m \u001b[0mgetattr\u001b[0m\u001b[1;33m(\u001b[0m\u001b[0mself\u001b[0m\u001b[1;33m.\u001b[0m\u001b[0mobj\u001b[0m\u001b[1;33m,\u001b[0m \u001b[0mself\u001b[0m\u001b[1;33m.\u001b[0m\u001b[0mf\u001b[0m\u001b[1;33m)\u001b[0m\u001b[1;33m\u001b[0m\u001b[1;33m\u001b[0m\u001b[0m\n\u001b[0m\u001b[0;32m    156\u001b[0m             \u001b[0msig\u001b[0m \u001b[1;33m=\u001b[0m \u001b[0minspect\u001b[0m\u001b[1;33m.\u001b[0m\u001b[0mgetfullargspec\u001b[0m\u001b[1;33m(\u001b[0m\u001b[0mfunc\u001b[0m\u001b[1;33m)\u001b[0m\u001b[1;33m\u001b[0m\u001b[1;33m\u001b[0m\u001b[0m\n\u001b[0;32m    157\u001b[0m             \u001b[1;32mif\u001b[0m \u001b[1;34m\"axis\"\u001b[0m \u001b[1;32min\u001b[0m \u001b[0msig\u001b[0m\u001b[1;33m.\u001b[0m\u001b[0margs\u001b[0m\u001b[1;33m:\u001b[0m\u001b[1;33m\u001b[0m\u001b[1;33m\u001b[0m\u001b[0m\n",
      "\u001b[1;32mc:\\users\\clint\\appdata\\local\\programs\\python\\python38\\lib\\site-packages\\pandas\\core\\generic.py\u001b[0m in \u001b[0;36m__getattr__\u001b[1;34m(self, name)\u001b[0m\n\u001b[0;32m   5128\u001b[0m             \u001b[1;32mif\u001b[0m \u001b[0mself\u001b[0m\u001b[1;33m.\u001b[0m\u001b[0m_info_axis\u001b[0m\u001b[1;33m.\u001b[0m\u001b[0m_can_hold_identifiers_and_holds_name\u001b[0m\u001b[1;33m(\u001b[0m\u001b[0mname\u001b[0m\u001b[1;33m)\u001b[0m\u001b[1;33m:\u001b[0m\u001b[1;33m\u001b[0m\u001b[1;33m\u001b[0m\u001b[0m\n\u001b[0;32m   5129\u001b[0m                 \u001b[1;32mreturn\u001b[0m \u001b[0mself\u001b[0m\u001b[1;33m[\u001b[0m\u001b[0mname\u001b[0m\u001b[1;33m]\u001b[0m\u001b[1;33m\u001b[0m\u001b[1;33m\u001b[0m\u001b[0m\n\u001b[1;32m-> 5130\u001b[1;33m             \u001b[1;32mreturn\u001b[0m \u001b[0mobject\u001b[0m\u001b[1;33m.\u001b[0m\u001b[0m__getattribute__\u001b[0m\u001b[1;33m(\u001b[0m\u001b[0mself\u001b[0m\u001b[1;33m,\u001b[0m \u001b[0mname\u001b[0m\u001b[1;33m)\u001b[0m\u001b[1;33m\u001b[0m\u001b[1;33m\u001b[0m\u001b[0m\n\u001b[0m\u001b[0;32m   5131\u001b[0m \u001b[1;33m\u001b[0m\u001b[0m\n\u001b[0;32m   5132\u001b[0m     \u001b[1;32mdef\u001b[0m \u001b[0m__setattr__\u001b[0m\u001b[1;33m(\u001b[0m\u001b[0mself\u001b[0m\u001b[1;33m,\u001b[0m \u001b[0mname\u001b[0m\u001b[1;33m:\u001b[0m \u001b[0mstr\u001b[0m\u001b[1;33m,\u001b[0m \u001b[0mvalue\u001b[0m\u001b[1;33m)\u001b[0m \u001b[1;33m->\u001b[0m \u001b[1;32mNone\u001b[0m\u001b[1;33m:\u001b[0m\u001b[1;33m\u001b[0m\u001b[1;33m\u001b[0m\u001b[0m\n",
      "\u001b[1;31mAttributeError\u001b[0m: 'DataFrame' object has no attribute 'QB'"
     ]
    }
   ],
   "source": [
    "nfl_frame['Position'] = nfl_frame.apply(add_position(nfl_frame))"
   ]
  }
 ],
 "metadata": {
  "kernelspec": {
   "display_name": "Python 3",
   "language": "python",
   "name": "python3"
  },
  "language_info": {
   "codemirror_mode": {
    "name": "ipython",
    "version": 3
   },
   "file_extension": ".py",
   "mimetype": "text/x-python",
   "name": "python",
   "nbconvert_exporter": "python",
   "pygments_lexer": "ipython3",
   "version": "3.8.5"
  }
 },
 "nbformat": 4,
 "nbformat_minor": 4
}
