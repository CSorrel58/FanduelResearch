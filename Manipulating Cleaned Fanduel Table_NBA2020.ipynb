{
 "cells": [
  {
   "cell_type": "markdown",
   "metadata": {},
   "source": [
    "In this notebook, I'm going to use the Fanduel Table I scraped and cleaned in the \"Import_and_Clean_FanDuel_NoStats\" notebook to see what fun facts we can find about how players did compared to their fanduel price this year. While my data will come from a csv version of my cleaned data, the original data come from RotoGuru1.com\n",
    "\n",
    "My goal is to see if there are any players who significantly out performed their average price, and if there are any common trends someone can look for to see if certain positions may be cheaper and still provide a high level of output"
   ]
  },
  {
   "cell_type": "code",
   "execution_count": 1,
   "metadata": {},
   "outputs": [],
   "source": [
    "#pulling in all the necessary python libraries\n",
    "from bs4 import BeautifulSoup\n",
    "import requests\n",
    "import pandas as pd\n",
    "import matplotlib.pyplot as plt\n",
    "import numpy as np\n",
    "import time\n",
    "from tabulate import tabulate\n",
    "from scipy.stats import zscore\n",
    "from sklearn.preprocessing import MinMaxScaler"
   ]
  },
  {
   "cell_type": "code",
   "execution_count": 2,
   "metadata": {},
   "outputs": [
    {
     "data": {
      "text/plain": [
       "Row                 int64\n",
       "Date               object\n",
       "Position           object\n",
       "Name               object\n",
       "Fanduel_Points    float64\n",
       "Fanduel_Price     float64\n",
       "Team               object\n",
       "Minutes_Played    float64\n",
       "Home_or_Away       object\n",
       "Opponent           object\n",
       "dtype: object"
      ]
     },
     "execution_count": 2,
     "metadata": {},
     "output_type": "execute_result"
    }
   ],
   "source": [
    "#create frame from saved csv of table I scraped and cleaned from RotoGuru1\n",
    "tight_frame = pd.read_csv('tight_frame.csv')\n",
    "#rename columns\n",
    "tight_frame.columns = ['Row','Date','Position','Name','Fanduel_Points','Fanduel_Price','Team','Minutes_Played','Home_or_Away','Opponent']\n",
    "tight_frame.dtypes"
   ]
  },
  {
   "cell_type": "markdown",
   "metadata": {},
   "source": [
    "First, I want to add a column that would calculate the expected number of points for a player to score based on their price for each player.<br>\n",
    "Surprisingly, I couldn't find anything letting me know how fanduel calculates price, even though they have a \"Value\" section after games that lets you know how well a player did based on a multiple of their expected points. <br><br>\n",
    "For example, if Gary Harris costs 5700 and scores 27.7 points, Fanduel will tell you that he scored 4.9 times his expected total. If Nikola Jokic costs 10200 and scores 71.9, FanDuel will tell you that he scored 7.0x his expected value. If monte Morris costs 4600 and scores 5.5, he is shown as having earned 1.2x his value.\n",
    "\n",
    "In general, it seems like the equation they are using is round(price/1000,1) = expected value. <br>\n",
    "For example:<br>\n",
    "Gary Harris scores 27.7<br>\n",
    "27.7/4.9 = 5.65<br>\n",
    "5.65x1000 = 5650<br><br>\n",
    "Nikola Jokic scores 71.9<br>\n",
    "71.9/7 = 10.27<br>\n",
    "10.27x1000 = 102700<br><br>\n",
    "Monte Morris scores 5.5<br>\n",
    "5.5/1.2=4.58<br>\n",
    "4.58x1000 = 4583<br><br>\n",
    "\n",
    "Online, it seems like there are alot of opinions on how to calculate value, but I'm going to use FanDuel's method since it is consistent and since they're the ones who made the game up in the first place. Then, i'm just going to find the average amount we can expect a player to exceed their value by, since it does seem like this system artificially inflates the \"value\" of most players.\n",
    "\n",
    "\n"
   ]
  },
  {
   "cell_type": "code",
   "execution_count": 3,
   "metadata": {},
   "outputs": [],
   "source": [
    "#creating a column with expected points scored based on price\n",
    "tight_frame['Expected_Points'] = tight_frame['Fanduel_Price'].apply(lambda x: round (x/1000,1))\n",
    "#creating a column with Fanduel's value multiplier\n",
    "tight_frame['Fanduel_multiple'] = (tight_frame['Fanduel_Points']/tight_frame['Expected_Points'])\n"
   ]
  },
  {
   "cell_type": "markdown",
   "metadata": {},
   "source": [
    "Now I'm going to take some time to look at measures of centrality for the value multiple so we can figure out a baseline for what is an expected value multiple. I am going to ignore anyone who scored 0 fanduel points, since that means they were likely hurt, did not play anyway, or played garbage time and might as well not have played. I will not ignore these when looking at specific players, but from a holistic perspective if somebody starts an injured person or benchwarmer then they shouldn't be shocked if that person scores zero points."
   ]
  },
  {
   "cell_type": "code",
   "execution_count": 4,
   "metadata": {
    "scrolled": false
   },
   "outputs": [],
   "source": [
    "#I am making a data frame with most of the scores\n",
    "#but ignoring zeroes for now since that means someone scored zero points and most likely did not play\n",
    "no_zeros = tight_frame[tight_frame['Fanduel_multiple'] != 0].reset_index(drop=True)"
   ]
  },
  {
   "cell_type": "code",
   "execution_count": 5,
   "metadata": {},
   "outputs": [],
   "source": [
    "#I discovered that my data cleaning had pulled information from both the 2018-2019 season and from the playoffs,\n",
    "#which I do not want, so I'm pulling those out here\n",
    "no_zeros['Date'] = pd.to_datetime(no_zeros['Date'])\n",
    "#setting dates for Oct 22 2019 and March 10 2020 which is when the season began and then when the season shut down due to COVID\n",
    "start_date = '10-22-2019'\n",
    "end_date = '3-10-2020'\n",
    "#creating filtered column of those dates\n",
    "no_zeros['mask'] = (no_zeros['Date'] >= start_date) & (no_zeros['Date'] <= end_date)"
   ]
  },
  {
   "cell_type": "code",
   "execution_count": 6,
   "metadata": {},
   "outputs": [],
   "source": [
    "#now I'm filtering for dates in this season\n",
    "multiples = no_zeros[no_zeros['mask'] != False].reset_index(drop=True)"
   ]
  },
  {
   "cell_type": "code",
   "execution_count": 7,
   "metadata": {},
   "outputs": [],
   "source": [
    "#deleting extra columns\n",
    "del multiples['mask']"
   ]
  },
  {
   "cell_type": "code",
   "execution_count": 9,
   "metadata": {},
   "outputs": [],
   "source": [
    "#saving this frame as a csv\n",
    "multiples.to_csv('multiples.csv')"
   ]
  },
  {
   "cell_type": "code",
   "execution_count": 10,
   "metadata": {},
   "outputs": [
    {
     "name": "stderr",
     "output_type": "stream",
     "text": [
      "<ipython-input-10-20abe372250d>:2: FutureWarning: DataFrame.mean and DataFrame.median with numeric_only=None will include datetime64 and datetime64tz columns in a future version.\n",
      "  average_multiple = multiples.mean()\n"
     ]
    },
    {
     "name": "stdout",
     "output_type": "stream",
     "text": [
      "Averages for NBA Players:\n",
      "Row                 40038.120535\n",
      "Fanduel_Points         21.956097\n",
      "Fanduel_Price        5027.090251\n",
      "Minutes_Played         23.422822\n",
      "Expected_Points         5.027090\n",
      "Fanduel_multiple        4.227806\n",
      "dtype: float64\n",
      "Medians for NBA Players:\n",
      "Row                 40008.500000\n",
      "Fanduel_Points         20.000000\n",
      "Fanduel_Price        4300.000000\n",
      "Minutes_Played         24.133333\n",
      "Expected_Points         4.300000\n",
      "Fanduel_multiple        4.171429\n",
      "dtype: float64\n",
      "Standard Deviations for NBA Players\n",
      "Row                 9196.869849\n",
      "Fanduel_Points        14.144547\n",
      "Fanduel_Price       1852.314544\n",
      "Minutes_Played         9.783340\n",
      "Expected_Points        1.852315\n",
      "Fanduel_multiple       2.209532\n",
      "dtype: float64\n"
     ]
    },
    {
     "name": "stderr",
     "output_type": "stream",
     "text": [
      "<ipython-input-10-20abe372250d>:3: FutureWarning: DataFrame.mean and DataFrame.median with numeric_only=None will include datetime64 and datetime64tz columns in a future version.\n",
      "  median_multiple = multiples.median()\n"
     ]
    }
   ],
   "source": [
    "#Taking some measures of centrality here\n",
    "average_multiple = multiples.mean()\n",
    "median_multiple = multiples.median()\n",
    "std_multiple = multiples.std()\n",
    "print('Averages for NBA Players:')\n",
    "print(average_multiple)\n",
    "print('Medians for NBA Players:')\n",
    "print(median_multiple)\n",
    "print('Standard Deviations for NBA Players')\n",
    "print(std_multiple)"
   ]
  },
  {
   "cell_type": "markdown",
   "metadata": {},
   "source": [
    "Immediate thoughts: <br>\n",
    "The average/median player scores roughly 4.2 times their value according to how fanduel does their math<br>\n",
    "<br>\n",
    "The mean and median for points being around 20 is higher than I expected. "
   ]
  },
  {
   "cell_type": "code",
   "execution_count": 11,
   "metadata": {
    "scrolled": true
   },
   "outputs": [
    {
     "data": {
      "image/png": "[encoded data removed]",
      "text/plain": [
       "<Figure size 432x288 with 1 Axes>"
      ]
     },
     "metadata": {
      "needs_background": "light"
     },
     "output_type": "display_data"
    }
   ],
   "source": [
    "#making a histogram to see the spread of the data\n",
    "ax=plt.subplot()\n",
    "plt.hist(multiples['Fanduel_multiple'],bins = 50,range=[0,15],alpha=.8)\n",
    "#adding the mean\n",
    "plt.axvline(multiples['Fanduel_multiple'].mean(), color='red', linestyle='dashed', linewidth=1)\n",
    "plt.xlabel('Value Multiple')\n",
    "plt.ylabel('Number of Scores')\n",
    "plt.title('Distribution of Value Multiples of Fanduel NBA 2020 Season')\n",
    "plt.show()"
   ]
  },
  {
   "cell_type": "markdown",
   "metadata": {},
   "source": [
    "Now that I have a rough idea of the spread of the data, I want to add some more columns to my dataframe.<br>\n",
    "I'm going to add fanduel points per minute to see who was more efficient with their time.<br>"
   ]
  },
  {
   "cell_type": "code",
   "execution_count": 12,
   "metadata": {},
   "outputs": [],
   "source": [
    "#add column with Fanduel points per minute\n",
    "multiples['PPM'] = multiples['Fanduel_Points']/multiples['Minutes_Played']\n"
   ]
  },
  {
   "cell_type": "markdown",
   "metadata": {},
   "source": [
    "Now I'm going to do some general group calculations for players to see who had the highest value relative to their price over the course of the season. I'm going to start by getting some aggregates for players"
   ]
  },
  {
   "cell_type": "code",
   "execution_count": 13,
   "metadata": {},
   "outputs": [],
   "source": [
    "#create series with average PPM by player\n",
    "#calculates average Fanduel points per minute for a player\n",
    "player_ppm = multiples.groupby(['Name']).PPM.mean()\n",
    "#calculates average Fanduel value multiple for a player\n",
    "player_multiple = multiples.groupby(['Name']).Fanduel_multiple.mean()\n",
    "#calculates average fanduel points scored for a player\n",
    "player_points = multiples.groupby(['Name']).Fanduel_Points.mean()\n",
    "#calculates typical number of minutes per player by median and mean, along with their sum minutes played\n",
    "player_minutes_mean = multiples.groupby(['Name']).Minutes_Played.mean()\n",
    "player_minutes_median = multiples.groupby(['Name']).Minutes_Played.median()\n",
    "player_minutes_total= multiples.groupby(['Name']).Minutes_Played.sum()\n",
    "#calculates average and median player price\n",
    "player_price_mean = multiples.groupby(['Name']).Fanduel_Price.mean()\n",
    "player_price_median = multiples.groupby(['Name']).Fanduel_Price.median()\n",
    "\n",
    "#creates dataframe with these aggregate functions\n",
    "player_table = pd.concat([player_ppm,player_multiple,\\\n",
    "                        player_minutes_mean,\\\n",
    "                        player_minutes_total,player_price_mean]\\\n",
    "                       ,axis=1)\n",
    "#renames columns\n",
    "player_table.columns = ['PPM','Average_Value_Multiple','Average_Minutes','Total_Minutes','Average_Price']\n",
    "#this table contains 508 nba players, many of whom played sparingly.\n",
    "#I'm going to remove many of them from my final table, but if you want them all this is the frame you want.\n"
   ]
  },
  {
   "cell_type": "code",
   "execution_count": 14,
   "metadata": {},
   "outputs": [
    {
     "data": {
      "text/html": [
       "<div>\n",
       "<style scoped>\n",
       "    .dataframe tbody tr th:only-of-type {\n",
       "        vertical-align: middle;\n",
       "    }\n",
       "\n",
       "    .dataframe tbody tr th {\n",
       "        vertical-align: top;\n",
       "    }\n",
       "\n",
       "    .dataframe thead th {\n",
       "        text-align: right;\n",
       "    }\n",
       "</style>\n",
       "<table border=\"1\" class=\"dataframe\">\n",
       "  <thead>\n",
       "    <tr style=\"text-align: right;\">\n",
       "      <th></th>\n",
       "      <th>PPM</th>\n",
       "      <th>Average_Value_Multiple</th>\n",
       "      <th>Average_Minutes</th>\n",
       "      <th>Total_Minutes</th>\n",
       "      <th>Average_Price</th>\n",
       "    </tr>\n",
       "    <tr>\n",
       "      <th>Name</th>\n",
       "      <th></th>\n",
       "      <th></th>\n",
       "      <th></th>\n",
       "      <th></th>\n",
       "      <th></th>\n",
       "    </tr>\n",
       "  </thead>\n",
       "  <tbody>\n",
       "    <tr>\n",
       "      <th>Adams, Steven</th>\n",
       "      <td>1.114019</td>\n",
       "      <td>4.945352</td>\n",
       "      <td>27.416667</td>\n",
       "      <td>1562.750000</td>\n",
       "      <td>6249.122807</td>\n",
       "    </tr>\n",
       "    <tr>\n",
       "      <th>Adebayo, Bam</th>\n",
       "      <td>1.196220</td>\n",
       "      <td>4.851732</td>\n",
       "      <td>33.939063</td>\n",
       "      <td>2172.100000</td>\n",
       "      <td>8456.250000</td>\n",
       "    </tr>\n",
       "    <tr>\n",
       "      <th>Aldridge, LaMarcus</th>\n",
       "      <td>1.112249</td>\n",
       "      <td>4.857802</td>\n",
       "      <td>33.095912</td>\n",
       "      <td>1754.083333</td>\n",
       "      <td>7666.037736</td>\n",
       "    </tr>\n",
       "    <tr>\n",
       "      <th>Alexander-Walker, Nickeil</th>\n",
       "      <td>0.846989</td>\n",
       "      <td>3.337444</td>\n",
       "      <td>13.700450</td>\n",
       "      <td>506.916667</td>\n",
       "      <td>3686.486486</td>\n",
       "    </tr>\n",
       "    <tr>\n",
       "      <th>Allen, Grayson</th>\n",
       "      <td>0.712192</td>\n",
       "      <td>3.391800</td>\n",
       "      <td>16.589444</td>\n",
       "      <td>497.683333</td>\n",
       "      <td>3590.000000</td>\n",
       "    </tr>\n",
       "    <tr>\n",
       "      <th>...</th>\n",
       "      <td>...</td>\n",
       "      <td>...</td>\n",
       "      <td>...</td>\n",
       "      <td>...</td>\n",
       "      <td>...</td>\n",
       "    </tr>\n",
       "    <tr>\n",
       "      <th>Young, Thaddeus</th>\n",
       "      <td>0.906338</td>\n",
       "      <td>4.727282</td>\n",
       "      <td>24.853906</td>\n",
       "      <td>1590.650000</td>\n",
       "      <td>4820.312500</td>\n",
       "    </tr>\n",
       "    <tr>\n",
       "      <th>Young, Trae</th>\n",
       "      <td>1.331280</td>\n",
       "      <td>4.800370</td>\n",
       "      <td>34.719672</td>\n",
       "      <td>2117.900000</td>\n",
       "      <td>9877.049180</td>\n",
       "    </tr>\n",
       "    <tr>\n",
       "      <th>Zeller, Cody</th>\n",
       "      <td>1.012610</td>\n",
       "      <td>4.677279</td>\n",
       "      <td>23.127193</td>\n",
       "      <td>1318.250000</td>\n",
       "      <td>5212.280702</td>\n",
       "    </tr>\n",
       "    <tr>\n",
       "      <th>Zizic, Ante</th>\n",
       "      <td>1.078199</td>\n",
       "      <td>2.975833</td>\n",
       "      <td>10.683333</td>\n",
       "      <td>213.666667</td>\n",
       "      <td>3515.000000</td>\n",
       "    </tr>\n",
       "    <tr>\n",
       "      <th>Zubac, Ivica</th>\n",
       "      <td>1.148626</td>\n",
       "      <td>4.834376</td>\n",
       "      <td>18.057672</td>\n",
       "      <td>1137.633333</td>\n",
       "      <td>4347.619048</td>\n",
       "    </tr>\n",
       "  </tbody>\n",
       "</table>\n",
       "<p>508 rows × 5 columns</p>\n",
       "</div>"
      ],
      "text/plain": [
       "                                PPM  Average_Value_Multiple  Average_Minutes  \\\n",
       "Name                                                                           \n",
       "Adams, Steven              1.114019                4.945352        27.416667   \n",
       "Adebayo, Bam               1.196220                4.851732        33.939063   \n",
       "Aldridge, LaMarcus         1.112249                4.857802        33.095912   \n",
       "Alexander-Walker, Nickeil  0.846989                3.337444        13.700450   \n",
       "Allen, Grayson             0.712192                3.391800        16.589444   \n",
       "...                             ...                     ...              ...   \n",
       "Young, Thaddeus            0.906338                4.727282        24.853906   \n",
       "Young, Trae                1.331280                4.800370        34.719672   \n",
       "Zeller, Cody               1.012610                4.677279        23.127193   \n",
       "Zizic, Ante                1.078199                2.975833        10.683333   \n",
       "Zubac, Ivica               1.148626                4.834376        18.057672   \n",
       "\n",
       "                           Total_Minutes  Average_Price  \n",
       "Name                                                     \n",
       "Adams, Steven                1562.750000    6249.122807  \n",
       "Adebayo, Bam                 2172.100000    8456.250000  \n",
       "Aldridge, LaMarcus           1754.083333    7666.037736  \n",
       "Alexander-Walker, Nickeil     506.916667    3686.486486  \n",
       "Allen, Grayson                497.683333    3590.000000  \n",
       "...                                  ...            ...  \n",
       "Young, Thaddeus              1590.650000    4820.312500  \n",
       "Young, Trae                  2117.900000    9877.049180  \n",
       "Zeller, Cody                 1318.250000    5212.280702  \n",
       "Zizic, Ante                   213.666667    3515.000000  \n",
       "Zubac, Ivica                 1137.633333    4347.619048  \n",
       "\n",
       "[508 rows x 5 columns]"
      ]
     },
     "execution_count": 14,
     "metadata": {},
     "output_type": "execute_result"
    }
   ],
   "source": [
    "player_table"
   ]
  },
  {
   "cell_type": "code",
   "execution_count": 15,
   "metadata": {
    "scrolled": true
   },
   "outputs": [
    {
     "name": "stdout",
     "output_type": "stream",
     "text": [
      "Average Minutes Played:916.5331692913385\n",
      "Median Minutes Played:892.9416666666668\n",
      "Deviation Minutes Played:671.4479690797516\n"
     ]
    }
   ],
   "source": [
    "#taking some averages on minutes here so I can figure out where to draw the line on removing players\n",
    "player_minutes_mean = player_table['Total_Minutes'].mean()\n",
    "player_minutes_median = player_table['Total_Minutes'].median()\n",
    "player_minutes_std = player_table['Total_Minutes'].std()\n",
    "print('Average Minutes Played:' + str(player_minutes_mean))\n",
    "print('Median Minutes Played:' + str(player_minutes_median))\n",
    "print('Deviation Minutes Played:' + str(player_minutes_std))\n",
    "#After looking at these, it drives home what I should have already known, which is that many NBA players do not play alot"
   ]
  },
  {
   "cell_type": "code",
   "execution_count": 16,
   "metadata": {},
   "outputs": [
    {
     "data": {
      "image/png": "[encoded data removed]",
      "text/plain": [
       "<Figure size 432x288 with 1 Axes>"
      ]
     },
     "metadata": {
      "needs_background": "light"
     },
     "output_type": "display_data"
    }
   ],
   "source": [
    "plt.hist(player_table['Total_Minutes'],bins=10)\n",
    "plt.show()"
   ]
  },
  {
   "cell_type": "markdown",
   "metadata": {},
   "source": [
    "Now that I have aggregate data for all players, I want to see who is the best. I am going to clean the set here so that players who only played one or two games don't grab all the spots at the top and bottom of my rankings, so I'm going to filter the tables based on minutes.<br>\n",
    "The average player in the NBA in 2019-2020 played for ~900 minutes. However, looking at the distirbution of the data, it is clear there is a vast group of players who barely played at all. To clean up the table for players who go consistent minutes, I am going to remove all players with an average playing time of less then 800 minutes.<br><br>\n",
    "\n",
    "I chose 800 minutes because 800 minutes/67 games (the average number of games a team played in 2020 before COVID shutdowns) is 11.94 minutes a game, or just barely under a quarter of a basketball game. I'm not really interested in any players who are on the court for less than that amount of time."
   ]
  },
  {
   "cell_type": "code",
   "execution_count": 17,
   "metadata": {},
   "outputs": [],
   "source": [
    "#creating table with players who had over the average number of minutes\n",
    "players_only = player_table[player_table['Total_Minutes'] >= 800].reset_index()\n",
    "#this table only has 270 players"
   ]
  },
  {
   "cell_type": "markdown",
   "metadata": {},
   "source": [
    "Now I'm going to redo the same measures of centrality with our smaller list to confirm if our baselines are the same\n"
   ]
  },
  {
   "cell_type": "code",
   "execution_count": 18,
   "metadata": {
    "scrolled": true
   },
   "outputs": [
    {
     "data": {
      "image/png": "[encoded data removed]",
      "text/plain": [
       "<Figure size 432x288 with 1 Axes>"
      ]
     },
     "metadata": {
      "needs_background": "light"
     },
     "output_type": "display_data"
    }
   ],
   "source": [
    "#making a histogram to see the spread of the data\n",
    "ax=plt.subplot()\n",
    "plt.hist(players_only['Average_Value_Multiple'],bins = 10,alpha=.8)\n",
    "#adding the mean\n",
    "plt.axvline(players_only['Average_Value_Multiple'].mean(), color='red', linestyle='dashed', linewidth=1)\n",
    "plt.xlabel('Value Multiple')\n",
    "plt.ylabel('Number of Players')\n",
    "plt.title(\"Player's Average Value Multiple for Fanduel\")\n",
    "plt.show()"
   ]
  },
  {
   "cell_type": "markdown",
   "metadata": {},
   "source": [
    "It looks like the values are left skewed with a strong cluster around 4.5-5. I'd like to be able to normalize this data so we can get a cleaner look at player values."
   ]
  },
  {
   "cell_type": "markdown",
   "metadata": {},
   "source": [
    "Now let's sort this to figure out who the best players are by value multiple. It will paint a clearer picture if I normalize the value multiples instead of just eyeballing them.\n",
    "\n",
    "Since the data doesn't have a normal distribution, I'm not going to use the z-score function. Instead, I will use (x-min)/(max-x) so we can just easily see how close a player's score is to the maximum value for an NBA Fanduel player in a game in 2020."
   ]
  },
  {
   "cell_type": "code",
   "execution_count": 19,
   "metadata": {},
   "outputs": [
    {
     "data": {
      "text/html": [
       "<div>\n",
       "<style scoped>\n",
       "    .dataframe tbody tr th:only-of-type {\n",
       "        vertical-align: middle;\n",
       "    }\n",
       "\n",
       "    .dataframe tbody tr th {\n",
       "        vertical-align: top;\n",
       "    }\n",
       "\n",
       "    .dataframe thead th {\n",
       "        text-align: right;\n",
       "    }\n",
       "</style>\n",
       "<table border=\"1\" class=\"dataframe\">\n",
       "  <thead>\n",
       "    <tr style=\"text-align: right;\">\n",
       "      <th></th>\n",
       "      <th>Name</th>\n",
       "      <th>PPM</th>\n",
       "      <th>Average_Value_Multiple</th>\n",
       "      <th>Average_Minutes</th>\n",
       "      <th>Total_Minutes</th>\n",
       "      <th>Average_Price</th>\n",
       "      <th>Norm_Value</th>\n",
       "      <th>Norm_Price</th>\n",
       "    </tr>\n",
       "  </thead>\n",
       "  <tbody>\n",
       "    <tr>\n",
       "      <th>0</th>\n",
       "      <td>Adams, Steven</td>\n",
       "      <td>1.114019</td>\n",
       "      <td>4.945352</td>\n",
       "      <td>27.416667</td>\n",
       "      <td>1562.750000</td>\n",
       "      <td>6249.122807</td>\n",
       "      <td>0.800638</td>\n",
       "      <td>0.327433</td>\n",
       "    </tr>\n",
       "    <tr>\n",
       "      <th>1</th>\n",
       "      <td>Adebayo, Bam</td>\n",
       "      <td>1.196220</td>\n",
       "      <td>4.851732</td>\n",
       "      <td>33.939063</td>\n",
       "      <td>2172.100000</td>\n",
       "      <td>8456.250000</td>\n",
       "      <td>0.771450</td>\n",
       "      <td>0.591333</td>\n",
       "    </tr>\n",
       "    <tr>\n",
       "      <th>2</th>\n",
       "      <td>Aldridge, LaMarcus</td>\n",
       "      <td>1.112249</td>\n",
       "      <td>4.857802</td>\n",
       "      <td>33.095912</td>\n",
       "      <td>1754.083333</td>\n",
       "      <td>7666.037736</td>\n",
       "      <td>0.773343</td>\n",
       "      <td>0.496849</td>\n",
       "    </tr>\n",
       "    <tr>\n",
       "      <th>3</th>\n",
       "      <td>Allen, Jarrett</td>\n",
       "      <td>1.090218</td>\n",
       "      <td>4.836833</td>\n",
       "      <td>25.739583</td>\n",
       "      <td>1647.333333</td>\n",
       "      <td>5900.000000</td>\n",
       "      <td>0.766805</td>\n",
       "      <td>0.285689</td>\n",
       "    </tr>\n",
       "    <tr>\n",
       "      <th>4</th>\n",
       "      <td>Anderson, Kyle</td>\n",
       "      <td>0.897707</td>\n",
       "      <td>4.312963</td>\n",
       "      <td>19.500000</td>\n",
       "      <td>1131.000000</td>\n",
       "      <td>4018.965517</td>\n",
       "      <td>0.603481</td>\n",
       "      <td>0.060779</td>\n",
       "    </tr>\n",
       "    <tr>\n",
       "      <th>...</th>\n",
       "      <td>...</td>\n",
       "      <td>...</td>\n",
       "      <td>...</td>\n",
       "      <td>...</td>\n",
       "      <td>...</td>\n",
       "      <td>...</td>\n",
       "      <td>...</td>\n",
       "      <td>...</td>\n",
       "    </tr>\n",
       "    <tr>\n",
       "      <th>265</th>\n",
       "      <td>Wright, Delon</td>\n",
       "      <td>0.931005</td>\n",
       "      <td>4.591777</td>\n",
       "      <td>22.057258</td>\n",
       "      <td>1367.550000</td>\n",
       "      <td>4585.483871</td>\n",
       "      <td>0.690405</td>\n",
       "      <td>0.128516</td>\n",
       "    </tr>\n",
       "    <tr>\n",
       "      <th>266</th>\n",
       "      <td>Young, Thaddeus</td>\n",
       "      <td>0.906338</td>\n",
       "      <td>4.727282</td>\n",
       "      <td>24.853906</td>\n",
       "      <td>1590.650000</td>\n",
       "      <td>4820.312500</td>\n",
       "      <td>0.732651</td>\n",
       "      <td>0.156594</td>\n",
       "    </tr>\n",
       "    <tr>\n",
       "      <th>267</th>\n",
       "      <td>Young, Trae</td>\n",
       "      <td>1.331280</td>\n",
       "      <td>4.800370</td>\n",
       "      <td>34.719672</td>\n",
       "      <td>2117.900000</td>\n",
       "      <td>9877.049180</td>\n",
       "      <td>0.755437</td>\n",
       "      <td>0.761214</td>\n",
       "    </tr>\n",
       "    <tr>\n",
       "      <th>268</th>\n",
       "      <td>Zeller, Cody</td>\n",
       "      <td>1.012610</td>\n",
       "      <td>4.677279</td>\n",
       "      <td>23.127193</td>\n",
       "      <td>1318.250000</td>\n",
       "      <td>5212.280702</td>\n",
       "      <td>0.717062</td>\n",
       "      <td>0.203461</td>\n",
       "    </tr>\n",
       "    <tr>\n",
       "      <th>269</th>\n",
       "      <td>Zubac, Ivica</td>\n",
       "      <td>1.148626</td>\n",
       "      <td>4.834376</td>\n",
       "      <td>18.057672</td>\n",
       "      <td>1137.633333</td>\n",
       "      <td>4347.619048</td>\n",
       "      <td>0.766039</td>\n",
       "      <td>0.100075</td>\n",
       "    </tr>\n",
       "  </tbody>\n",
       "</table>\n",
       "<p>270 rows × 8 columns</p>\n",
       "</div>"
      ],
      "text/plain": [
       "                   Name       PPM  Average_Value_Multiple  Average_Minutes  \\\n",
       "0         Adams, Steven  1.114019                4.945352        27.416667   \n",
       "1          Adebayo, Bam  1.196220                4.851732        33.939063   \n",
       "2    Aldridge, LaMarcus  1.112249                4.857802        33.095912   \n",
       "3        Allen, Jarrett  1.090218                4.836833        25.739583   \n",
       "4        Anderson, Kyle  0.897707                4.312963        19.500000   \n",
       "..                  ...       ...                     ...              ...   \n",
       "265       Wright, Delon  0.931005                4.591777        22.057258   \n",
       "266     Young, Thaddeus  0.906338                4.727282        24.853906   \n",
       "267         Young, Trae  1.331280                4.800370        34.719672   \n",
       "268        Zeller, Cody  1.012610                4.677279        23.127193   \n",
       "269        Zubac, Ivica  1.148626                4.834376        18.057672   \n",
       "\n",
       "     Total_Minutes  Average_Price  Norm_Value  Norm_Price  \n",
       "0      1562.750000    6249.122807    0.800638    0.327433  \n",
       "1      2172.100000    8456.250000    0.771450    0.591333  \n",
       "2      1754.083333    7666.037736    0.773343    0.496849  \n",
       "3      1647.333333    5900.000000    0.766805    0.285689  \n",
       "4      1131.000000    4018.965517    0.603481    0.060779  \n",
       "..             ...            ...         ...         ...  \n",
       "265    1367.550000    4585.483871    0.690405    0.128516  \n",
       "266    1590.650000    4820.312500    0.732651    0.156594  \n",
       "267    2117.900000    9877.049180    0.755437    0.761214  \n",
       "268    1318.250000    5212.280702    0.717062    0.203461  \n",
       "269    1137.633333    4347.619048    0.766039    0.100075  \n",
       "\n",
       "[270 rows x 8 columns]"
      ]
     },
     "execution_count": 19,
     "metadata": {},
     "output_type": "execute_result"
    }
   ],
   "source": [
    "#Writing function to normlaize a column\n",
    "def normalize(column):\n",
    "    upper = column.max()\n",
    "    lower = column.min()\n",
    "    y = (column - lower)/(upper-lower)\n",
    "    return y\n",
    "#Creating series of normalized Fanduel_values\n",
    "players_only_norm = normalize(players_only['Average_Value_Multiple'])\n",
    "#Adding list to our frame as a column\n",
    "players_only['Norm_Value'] = players_only_norm\n",
    "#Repeating for Price\n",
    "players_only_price_norm = normalize(players_only['Average_Price'])\n",
    "#adding column\n",
    "players_only['Norm_Price'] = players_only_price_norm\n",
    "players_only"
   ]
  },
  {
   "cell_type": "markdown",
   "metadata": {},
   "source": [
    "Now, I want to take a look at how players stack up based on the ratio of their average fanduel value vs the baseline"
   ]
  },
  {
   "cell_type": "code",
   "execution_count": 20,
   "metadata": {},
   "outputs": [
    {
     "data": {
      "image/png": "[encoded data removed]",
      "text/plain": [
       "<Figure size 432x288 with 1 Axes>"
      ]
     },
     "metadata": {
      "needs_background": "light"
     },
     "output_type": "display_data"
    }
   ],
   "source": [
    "#confirming our distirbution still has roughly the same shape \n",
    "plt.hist(players_only['Norm_Value'],bins=10)\n",
    "plt.show()"
   ]
  },
  {
   "cell_type": "markdown",
   "metadata": {},
   "source": [
    "Now that we're comparing 0-1 instead of deciphering numbers on the value scale, it should make things a little clearer on player value since we have them ranked."
   ]
  },
  {
   "cell_type": "code",
   "execution_count": 21,
   "metadata": {},
   "outputs": [
    {
     "data": {
      "text/html": [
       "<div>\n",
       "<style scoped>\n",
       "    .dataframe tbody tr th:only-of-type {\n",
       "        vertical-align: middle;\n",
       "    }\n",
       "\n",
       "    .dataframe tbody tr th {\n",
       "        vertical-align: top;\n",
       "    }\n",
       "\n",
       "    .dataframe thead th {\n",
       "        text-align: right;\n",
       "    }\n",
       "</style>\n",
       "<table border=\"1\" class=\"dataframe\">\n",
       "  <thead>\n",
       "    <tr style=\"text-align: right;\">\n",
       "      <th></th>\n",
       "      <th>Name</th>\n",
       "      <th>PPM</th>\n",
       "      <th>Average_Value_Multiple</th>\n",
       "      <th>Average_Minutes</th>\n",
       "      <th>Total_Minutes</th>\n",
       "      <th>Average_Price</th>\n",
       "      <th>Norm_Value</th>\n",
       "      <th>Norm_Price</th>\n",
       "    </tr>\n",
       "  </thead>\n",
       "  <tbody>\n",
       "    <tr>\n",
       "      <th>0</th>\n",
       "      <td>Powell, Norman</td>\n",
       "      <td>0.918237</td>\n",
       "      <td>5.584814</td>\n",
       "      <td>29.477519</td>\n",
       "      <td>1267.533333</td>\n",
       "      <td>4906.976744</td>\n",
       "      <td>1.000000</td>\n",
       "      <td>0.166956</td>\n",
       "    </tr>\n",
       "    <tr>\n",
       "      <th>1</th>\n",
       "      <td>Smart, Marcus</td>\n",
       "      <td>0.912724</td>\n",
       "      <td>5.381304</td>\n",
       "      <td>32.466352</td>\n",
       "      <td>1720.716667</td>\n",
       "      <td>5643.396226</td>\n",
       "      <td>0.936553</td>\n",
       "      <td>0.255008</td>\n",
       "    </tr>\n",
       "    <tr>\n",
       "      <th>2</th>\n",
       "      <td>Brown, Bruce</td>\n",
       "      <td>0.813155</td>\n",
       "      <td>5.277332</td>\n",
       "      <td>28.172414</td>\n",
       "      <td>1634.000000</td>\n",
       "      <td>4539.655172</td>\n",
       "      <td>0.904138</td>\n",
       "      <td>0.123037</td>\n",
       "    </tr>\n",
       "    <tr>\n",
       "      <th>3</th>\n",
       "      <td>Theis, Daniel</td>\n",
       "      <td>1.022601</td>\n",
       "      <td>5.274462</td>\n",
       "      <td>23.831897</td>\n",
       "      <td>1382.250000</td>\n",
       "      <td>4653.448276</td>\n",
       "      <td>0.903243</td>\n",
       "      <td>0.136643</td>\n",
       "    </tr>\n",
       "    <tr>\n",
       "      <th>4</th>\n",
       "      <td>LeVert, Caris</td>\n",
       "      <td>1.014758</td>\n",
       "      <td>5.269326</td>\n",
       "      <td>29.005983</td>\n",
       "      <td>1131.233333</td>\n",
       "      <td>5741.025641</td>\n",
       "      <td>0.901642</td>\n",
       "      <td>0.266681</td>\n",
       "    </tr>\n",
       "    <tr>\n",
       "      <th>...</th>\n",
       "      <td>...</td>\n",
       "      <td>...</td>\n",
       "      <td>...</td>\n",
       "      <td>...</td>\n",
       "      <td>...</td>\n",
       "      <td>...</td>\n",
       "      <td>...</td>\n",
       "      <td>...</td>\n",
       "    </tr>\n",
       "    <tr>\n",
       "      <th>265</th>\n",
       "      <td>Carter, Vince</td>\n",
       "      <td>0.704235</td>\n",
       "      <td>3.012039</td>\n",
       "      <td>14.704310</td>\n",
       "      <td>852.850000</td>\n",
       "      <td>3568.965517</td>\n",
       "      <td>0.197897</td>\n",
       "      <td>0.006974</td>\n",
       "    </tr>\n",
       "    <tr>\n",
       "      <th>266</th>\n",
       "      <td>Graham, Treveon</td>\n",
       "      <td>0.584759</td>\n",
       "      <td>2.986580</td>\n",
       "      <td>18.013333</td>\n",
       "      <td>900.666667</td>\n",
       "      <td>3610.000000</td>\n",
       "      <td>0.189960</td>\n",
       "      <td>0.011880</td>\n",
       "    </tr>\n",
       "    <tr>\n",
       "      <th>267</th>\n",
       "      <td>Williams, Grant</td>\n",
       "      <td>0.645942</td>\n",
       "      <td>2.898382</td>\n",
       "      <td>15.637366</td>\n",
       "      <td>969.516667</td>\n",
       "      <td>3562.903226</td>\n",
       "      <td>0.162463</td>\n",
       "      <td>0.006249</td>\n",
       "    </tr>\n",
       "    <tr>\n",
       "      <th>268</th>\n",
       "      <td>Ferguson, Terrance</td>\n",
       "      <td>0.394561</td>\n",
       "      <td>2.777196</td>\n",
       "      <td>24.473759</td>\n",
       "      <td>1150.266667</td>\n",
       "      <td>3510.638298</td>\n",
       "      <td>0.124681</td>\n",
       "      <td>0.000000</td>\n",
       "    </tr>\n",
       "    <tr>\n",
       "      <th>269</th>\n",
       "      <td>Ojeleye, Semi</td>\n",
       "      <td>0.503955</td>\n",
       "      <td>2.377277</td>\n",
       "      <td>16.121069</td>\n",
       "      <td>854.416667</td>\n",
       "      <td>3513.207547</td>\n",
       "      <td>0.000000</td>\n",
       "      <td>0.000307</td>\n",
       "    </tr>\n",
       "  </tbody>\n",
       "</table>\n",
       "<p>270 rows × 8 columns</p>\n",
       "</div>"
      ],
      "text/plain": [
       "                   Name       PPM  Average_Value_Multiple  Average_Minutes  \\\n",
       "0        Powell, Norman  0.918237                5.584814        29.477519   \n",
       "1         Smart, Marcus  0.912724                5.381304        32.466352   \n",
       "2          Brown, Bruce  0.813155                5.277332        28.172414   \n",
       "3         Theis, Daniel  1.022601                5.274462        23.831897   \n",
       "4         LeVert, Caris  1.014758                5.269326        29.005983   \n",
       "..                  ...       ...                     ...              ...   \n",
       "265       Carter, Vince  0.704235                3.012039        14.704310   \n",
       "266     Graham, Treveon  0.584759                2.986580        18.013333   \n",
       "267     Williams, Grant  0.645942                2.898382        15.637366   \n",
       "268  Ferguson, Terrance  0.394561                2.777196        24.473759   \n",
       "269       Ojeleye, Semi  0.503955                2.377277        16.121069   \n",
       "\n",
       "     Total_Minutes  Average_Price  Norm_Value  Norm_Price  \n",
       "0      1267.533333    4906.976744    1.000000    0.166956  \n",
       "1      1720.716667    5643.396226    0.936553    0.255008  \n",
       "2      1634.000000    4539.655172    0.904138    0.123037  \n",
       "3      1382.250000    4653.448276    0.903243    0.136643  \n",
       "4      1131.233333    5741.025641    0.901642    0.266681  \n",
       "..             ...            ...         ...         ...  \n",
       "265     852.850000    3568.965517    0.197897    0.006974  \n",
       "266     900.666667    3610.000000    0.189960    0.011880  \n",
       "267     969.516667    3562.903226    0.162463    0.006249  \n",
       "268    1150.266667    3510.638298    0.124681    0.000000  \n",
       "269     854.416667    3513.207547    0.000000    0.000307  \n",
       "\n",
       "[270 rows x 8 columns]"
      ]
     },
     "execution_count": 21,
     "metadata": {},
     "output_type": "execute_result"
    }
   ],
   "source": [
    "#creating sorted table by Norm first, then tiebreaking with average minutes to give credit to players who get more floor time\n",
    "player_norm_ranks = players_only.sort_values(['Norm_Value','Average_Minutes'],ascending=False).reset_index(drop=True)\n",
    "player_norm_ranks"
   ]
  },
  {
   "cell_type": "markdown",
   "metadata": {},
   "source": [
    "A brief glance at this list indicates that sixth men are gonna give you the best bang for your buck. I feel like there's going to be high variance with these guys though, since odds are good alot of their best nights come when starters are resting.\n",
    "\n",
    "I'd want to use the base table with scores by date to find who consistently beat expectations night to night. That's going to be a different notebook."
   ]
  },
  {
   "cell_type": "code",
   "execution_count": 22,
   "metadata": {},
   "outputs": [],
   "source": [
    "#Saving as csv\n",
    "players_only.to_csv('player_totals.csv')"
   ]
  },
  {
   "cell_type": "code",
   "execution_count": 23,
   "metadata": {},
   "outputs": [],
   "source": [
    "#Cleaning up the original multiples table to only include these players I looked at in the above chart\n",
    "players = list(players_only['Name'])\n",
    "players_table = multiples[multiples['Name'].isin(players)].reset_index(drop=True)\n",
    "#saving this as a csv\n",
    "players_table.to_csv('multiples.csv')"
   ]
  },
  {
   "cell_type": "markdown",
   "metadata": {},
   "source": [
    "In addiiton to my work here, I went ahead and used Tableau to make some visualizations on player value, as well as value per position. I also was able to show player value per date. <br><br>\n",
    "\n",
    "You can see all of my visualizations here: https://public.tableau.com/profile/clinton.sorrel#!/?newProfile=&activeTab=0"
   ]
  }
 ],
 "metadata": {
  "kernelspec": {
   "display_name": "Python 3",
   "language": "python",
   "name": "python3"
  },
  "language_info": {
   "codemirror_mode": {
    "name": "ipython",
    "version": 3
   },
   "file_extension": ".py",
   "mimetype": "text/x-python",
   "name": "python",
   "nbconvert_exporter": "python",
   "pygments_lexer": "ipython3",
   "version": "3.8.5"
  }
 },
 "nbformat": 4,
 "nbformat_minor": 4
}
